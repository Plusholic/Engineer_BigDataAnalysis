{
  "nbformat": 4,
  "nbformat_minor": 0,
  "metadata": {
    "colab": {
      "name": "BigData_practice_03.ipynb",
      "provenance": [],
      "collapsed_sections": [],
      "authorship_tag": "ABX9TyO7H3LGzPjj8XNnjkIiRz9y",
      "include_colab_link": true
    },
    "kernelspec": {
      "name": "python3",
      "display_name": "Python 3"
    },
    "language_info": {
      "name": "python"
    }
  },
  "cells": [
    {
      "cell_type": "markdown",
      "metadata": {
        "id": "view-in-github",
        "colab_type": "text"
      },
      "source": [
        "<a href=\"https://colab.research.google.com/github/Plusholic/Engineer_BigDataAnalysis/blob/main/BigData_practice_03.ipynb\" target=\"_parent\"><img src=\"https://colab.research.google.com/assets/colab-badge.svg\" alt=\"Open In Colab\"/></a>"
      ]
    },
    {
      "cell_type": "code",
      "execution_count": 1,
      "metadata": {
        "colab": {
          "base_uri": "https://localhost:8080/"
        },
        "id": "7YoOPAzqAFCj",
        "outputId": "4dab4064-2375-4fa0-a92b-3b416540d33b"
      },
      "outputs": [
        {
          "output_type": "stream",
          "name": "stdout",
          "text": [
            "Cloning into 'yemoonsaBigdata'...\n",
            "remote: Enumerating objects: 481, done.\u001b[K\n",
            "remote: Counting objects: 100% (118/118), done.\u001b[K\n",
            "remote: Compressing objects: 100% (74/74), done.\u001b[K\n",
            "remote: Total 481 (delta 64), reused 49 (delta 44), pack-reused 363\u001b[K\n",
            "Receiving objects: 100% (481/481), 8.88 MiB | 13.74 MiB/s, done.\n",
            "Resolving deltas: 100% (249/249), done.\n"
          ]
        }
      ],
      "source": [
        "!git clone https://github.com/AnalyticsKnight/yemoonsaBigdata/"
      ]
    },
    {
      "cell_type": "code",
      "source": [
        "import pandas as pd\n",
        "import numpy as np\n",
        "\n",
        "X_train = pd.read_csv(\"/content/yemoonsaBigdata/datasets/Part2/census_X_train.csv\")\n",
        "X_test = pd.read_csv(\"/content/yemoonsaBigdata/datasets/Part2/census_X_test.csv\")\n",
        "y_train = pd.read_csv(\"/content/yemoonsaBigdata/datasets/Part2/census_y_train.csv\")\n",
        "\n",
        "# 확인결과 결측치는 없음. target이 0,1이므로 분류모델이고, 갯수가 bias 되어 있음.\n",
        "print(X_train.info())\n",
        "print(X_train)\n",
        "print(y_train.value_counts())"
      ],
      "metadata": {
        "colab": {
          "base_uri": "https://localhost:8080/"
        },
        "id": "Z_hDYMm4AOKh",
        "outputId": "85b5b079-cadb-4b57-a5b5-c025d0960dee"
      },
      "execution_count": 4,
      "outputs": [
        {
          "output_type": "stream",
          "name": "stdout",
          "text": [
            "<class 'pandas.core.frame.DataFrame'>\n",
            "RangeIndex: 30162 entries, 0 to 30161\n",
            "Data columns (total 12 columns):\n",
            " #   Column          Non-Null Count  Dtype \n",
            "---  ------          --------------  ----- \n",
            " 0   age             30162 non-null  int64 \n",
            " 1   workclass       30162 non-null  object\n",
            " 2   education_num   30162 non-null  int64 \n",
            " 3   marital_status  30162 non-null  object\n",
            " 4   occupation      30162 non-null  object\n",
            " 5   relationship    30162 non-null  object\n",
            " 6   race            30162 non-null  object\n",
            " 7   sex             30162 non-null  object\n",
            " 8   capital_gain    30162 non-null  int64 \n",
            " 9   capital_loss    30162 non-null  int64 \n",
            " 10  hours_per_week  30162 non-null  int64 \n",
            " 11  native_country  30162 non-null  object\n",
            "dtypes: int64(5), object(7)\n",
            "memory usage: 2.8+ MB\n",
            "None\n",
            "       age         workclass  education_num      marital_status  \\\n",
            "0       39         State-gov             13       Never-married   \n",
            "1       50  Self-emp-not-inc             13  Married-civ-spouse   \n",
            "2       38           Private              9            Divorced   \n",
            "3       53           Private              7  Married-civ-spouse   \n",
            "4       28           Private             13  Married-civ-spouse   \n",
            "...    ...               ...            ...                 ...   \n",
            "30157   27           Private             12  Married-civ-spouse   \n",
            "30158   40           Private              9  Married-civ-spouse   \n",
            "30159   58           Private              9             Widowed   \n",
            "30160   22           Private              9       Never-married   \n",
            "30161   52      Self-emp-inc              9  Married-civ-spouse   \n",
            "\n",
            "              occupation   relationship   race     sex  capital_gain  \\\n",
            "0           Adm-clerical  Not-in-family  White    Male          2174   \n",
            "1        Exec-managerial        Husband  White    Male             0   \n",
            "2      Handlers-cleaners  Not-in-family  White    Male             0   \n",
            "3      Handlers-cleaners        Husband  Black    Male             0   \n",
            "4         Prof-specialty           Wife  Black  Female             0   \n",
            "...                  ...            ...    ...     ...           ...   \n",
            "30157       Tech-support           Wife  White  Female             0   \n",
            "30158  Machine-op-inspct        Husband  White    Male             0   \n",
            "30159       Adm-clerical      Unmarried  White  Female             0   \n",
            "30160       Adm-clerical      Own-child  White    Male             0   \n",
            "30161    Exec-managerial           Wife  White  Female         15024   \n",
            "\n",
            "       capital_loss  hours_per_week native_country  \n",
            "0                 0              40  United-States  \n",
            "1                 0              13  United-States  \n",
            "2                 0              40  United-States  \n",
            "3                 0              40  United-States  \n",
            "4                 0              40           Cuba  \n",
            "...             ...             ...            ...  \n",
            "30157             0              38  United-States  \n",
            "30158             0              40  United-States  \n",
            "30159             0              40  United-States  \n",
            "30160             0              20  United-States  \n",
            "30161             0              40  United-States  \n",
            "\n",
            "[30162 rows x 12 columns]\n",
            "target\n",
            "0         22654\n",
            "1          7508\n",
            "dtype: int64\n"
          ]
        }
      ]
    },
    {
      "cell_type": "code",
      "source": [
        "print(X_train.describe())"
      ],
      "metadata": {
        "colab": {
          "base_uri": "https://localhost:8080/"
        },
        "id": "rIIkAMApA6ma",
        "outputId": "68ddc471-0ee4-4e30-e067-938882cfb27a"
      },
      "execution_count": 5,
      "outputs": [
        {
          "output_type": "stream",
          "name": "stdout",
          "text": [
            "                age  education_num  capital_gain  capital_loss  hours_per_week\n",
            "count  30162.000000   30162.000000  30162.000000  30162.000000    30162.000000\n",
            "mean      38.437902      10.121312   1092.007858     88.372489       40.931238\n",
            "std       13.134665       2.549995   7406.346497    404.298370       11.979984\n",
            "min       17.000000       1.000000      0.000000      0.000000        1.000000\n",
            "25%       28.000000       9.000000      0.000000      0.000000       40.000000\n",
            "50%       37.000000      10.000000      0.000000      0.000000       40.000000\n",
            "75%       47.000000      13.000000      0.000000      0.000000       45.000000\n",
            "max       90.000000      16.000000  99999.000000   4356.000000       99.000000\n"
          ]
        }
      ]
    },
    {
      "cell_type": "code",
      "source": [
        "# capital_gain, capital_loss 는 bias 되어있는것을 확인할 수 있음. 두 변수의 75 백분위수 ~ 100 백분위수 범위를 5 백분위수 단계로 쪼개서 살펴보기\n",
        "print(X_train['capital_gain'].quantile([q/20 for q in range(15, 21)]))\n",
        "print(X_train['capital_loss'].quantile([q/20 for q in range(15, 21)]))"
      ],
      "metadata": {
        "colab": {
          "base_uri": "https://localhost:8080/"
        },
        "id": "k38fcc45BWx5",
        "outputId": "b6d62883-6b04-437a-ff14-49ceb2d0fa9d"
      },
      "execution_count": 7,
      "outputs": [
        {
          "output_type": "stream",
          "name": "stdout",
          "text": [
            "0.75        0.0\n",
            "0.80        0.0\n",
            "0.85        0.0\n",
            "0.90        0.0\n",
            "0.95     5013.0\n",
            "1.00    99999.0\n",
            "Name: capital_gain, dtype: float64\n",
            "0.75       0.0\n",
            "0.80       0.0\n",
            "0.85       0.0\n",
            "0.90       0.0\n",
            "0.95       0.0\n",
            "1.00    4356.0\n",
            "Name: capital_loss, dtype: float64\n"
          ]
        }
      ]
    },
    {
      "cell_type": "code",
      "source": [
        "X_train['capital_gain_yn'] = np.where(X_train['capital_gain'] > 0, 1, 0)\n",
        "X_train['capital_loss_yn'] = np.where(X_train['capital_loss'] > 0, 1, 0)\n",
        "\n",
        "X_test['capital_gain_yn'] = np.where(X_test['capital_gain'] > 0, 1, 0)\n",
        "X_test['capital_loss_yn'] = np.where(X_test['capital_loss'] > 0, 1, 0)"
      ],
      "metadata": {
        "id": "65lV0PwCBylS"
      },
      "execution_count": 8,
      "outputs": []
    },
    {
      "cell_type": "code",
      "source": [
        "categoric_ = ['workclass', 'marital_status', 'occupation', 'relationship', 'race', 'sex', 'native_country', 'capital_gain_yn', 'capital_loss_yn']\n",
        "numeric_ = ['age', 'education_num', 'capital_gain', 'capital_loss', 'hours_per_week']"
      ],
      "metadata": {
        "id": "G09F45iqCdPm"
      },
      "execution_count": 35,
      "outputs": []
    },
    {
      "cell_type": "code",
      "source": [
        "X_train = X_train.drop([], axis=1)\n",
        "X_test = X_test.drop([], axis=1)\n",
        "\n",
        "train_df = pd.concat([X_train, y_train], axis=1)\n",
        "\n",
        "for _col in numeric_:\n",
        "  print('-'*80)\n",
        "  print(_col)\n",
        "  print(train_df.groupby(['target'])[_col].describe(), end='\\n\\n')"
      ],
      "metadata": {
        "colab": {
          "base_uri": "https://localhost:8080/"
        },
        "id": "YTCA9WOxC8BI",
        "outputId": "18d094c0-c201-42c7-d356-31a62a254c50"
      },
      "execution_count": 36,
      "outputs": [
        {
          "output_type": "stream",
          "name": "stdout",
          "text": [
            "--------------------------------------------------------------------------------\n",
            "age\n",
            "          count      mean        std   min   25%   50%   75%   max\n",
            "target                                                            \n",
            "0       22654.0  36.60806  13.464631  17.0  26.0  34.0  45.0  90.0\n",
            "1        7508.0  43.95911  10.269633  19.0  36.0  43.0  51.0  90.0\n",
            "\n",
            "--------------------------------------------------------------------------------\n",
            "education_num\n",
            "          count       mean       std  min   25%   50%   75%   max\n",
            "target                                                           \n",
            "0       22654.0   9.629116  2.413596  1.0   9.0   9.0  10.0  16.0\n",
            "1        7508.0  11.606420  2.368423  2.0  10.0  12.0  13.0  16.0\n",
            "\n",
            "--------------------------------------------------------------------------------\n",
            "capital_gain\n",
            "          count         mean           std  min  25%  50%  75%      max\n",
            "target                                                                 \n",
            "0       22654.0   148.893838    936.392280  0.0  0.0  0.0  0.0  41310.0\n",
            "1        7508.0  3937.679808  14386.060019  0.0  0.0  0.0  0.0  99999.0\n",
            "\n",
            "--------------------------------------------------------------------------------\n",
            "capital_loss\n",
            "          count        mean         std  min  25%  50%  75%     max\n",
            "target                                                             \n",
            "0       22654.0   53.448000  310.270263  0.0  0.0  0.0  0.0  4356.0\n",
            "1        7508.0  193.750666  592.825590  0.0  0.0  0.0  0.0  3683.0\n",
            "\n",
            "--------------------------------------------------------------------------------\n",
            "hours_per_week\n",
            "          count       mean        std  min   25%   50%   75%   max\n",
            "target                                                            \n",
            "0       22654.0  39.348592  11.950774  1.0  38.0  40.0  40.0  99.0\n",
            "1        7508.0  45.706580  10.736987  1.0  40.0  40.0  50.0  99.0\n",
            "\n"
          ]
        }
      ]
    },
    {
      "cell_type": "code",
      "source": [
        "# column 별로 target의 평균\n",
        "for _col in categoric_:\n",
        "  print(train_df.groupby([_col], as_index=False)['target'].mean().sort_values(by='target', ascending=False), end='\\n\\n')"
      ],
      "metadata": {
        "colab": {
          "base_uri": "https://localhost:8080/"
        },
        "id": "VPvggwHeD1jX",
        "outputId": "95391356-6662-45fe-966e-e4ae4b976b77"
      },
      "execution_count": 37,
      "outputs": [
        {
          "output_type": "stream",
          "name": "stdout",
          "text": [
            "          workclass    target\n",
            "3      Self-emp-inc  0.558659\n",
            "0       Federal-gov  0.387063\n",
            "1         Local-gov  0.294630\n",
            "4  Self-emp-not-inc  0.285714\n",
            "5         State-gov  0.268960\n",
            "2           Private  0.218792\n",
            "6       Without-pay  0.000000\n",
            "\n",
            "          marital_status    target\n",
            "1      Married-AF-spouse  0.476190\n",
            "2     Married-civ-spouse  0.454959\n",
            "0               Divorced  0.107262\n",
            "6                Widowed  0.096735\n",
            "3  Married-spouse-absent  0.083784\n",
            "5              Separated  0.070288\n",
            "4          Never-married  0.048324\n",
            "\n",
            "           occupation    target\n",
            "3     Exec-managerial  0.485220\n",
            "9      Prof-specialty  0.448489\n",
            "10    Protective-serv  0.326087\n",
            "12       Tech-support  0.304825\n",
            "11              Sales  0.270647\n",
            "2        Craft-repair  0.225310\n",
            "13   Transport-moving  0.202926\n",
            "0        Adm-clerical  0.133835\n",
            "6   Machine-op-inspct  0.124619\n",
            "4     Farming-fishing  0.116279\n",
            "1        Armed-Forces  0.111111\n",
            "5   Handlers-cleaners  0.061481\n",
            "7       Other-service  0.041096\n",
            "8     Priv-house-serv  0.006993\n",
            "\n",
            "     relationship    target\n",
            "5            Wife  0.493599\n",
            "0         Husband  0.455669\n",
            "1   Not-in-family  0.106523\n",
            "4       Unmarried  0.066314\n",
            "2  Other-relative  0.039370\n",
            "3       Own-child  0.014330\n",
            "\n",
            "                 race    target\n",
            "1  Asian-Pac-Islander  0.277095\n",
            "4               White  0.263718\n",
            "2               Black  0.129925\n",
            "0  Amer-Indian-Eskimo  0.118881\n",
            "3               Other  0.090909\n",
            "\n",
            "      sex    target\n",
            "1    Male  0.313837\n",
            "0  Female  0.113678\n",
            "\n",
            "                native_country    target\n",
            "35                      Taiwan  0.452381\n",
            "9                       France  0.444444\n",
            "19                        Iran  0.428571\n",
            "18                       India  0.400000\n",
            "23                       Japan  0.389831\n",
            "0                     Cambodia  0.388889\n",
            "40                  Yugoslavia  0.375000\n",
            "21                       Italy  0.352941\n",
            "8                      England  0.348837\n",
            "10                     Germany  0.343750\n",
            "1                       Canada  0.336449\n",
            "29                 Philippines  0.319149\n",
            "16                        Hong  0.315789\n",
            "2                        China  0.294118\n",
            "11                      Greece  0.275862\n",
            "4                         Cuba  0.271739\n",
            "38               United-States  0.254327\n",
            "17                     Hungary  0.230769\n",
            "20                     Ireland  0.208333\n",
            "34                       South  0.197183\n",
            "30                      Poland  0.196429\n",
            "33                    Scotland  0.181818\n",
            "36                    Thailand  0.176471\n",
            "6                      Ecuador  0.148148\n",
            "22                     Jamaica  0.125000\n",
            "31                    Portugal  0.117647\n",
            "24                        Laos  0.117647\n",
            "37             Trinadad&Tobago  0.111111\n",
            "32                 Puerto-Rico  0.110092\n",
            "13                       Haiti  0.095238\n",
            "7                  El-Salvador  0.090000\n",
            "15                    Honduras  0.083333\n",
            "39                     Vietnam  0.078125\n",
            "28                        Peru  0.066667\n",
            "26                   Nicaragua  0.060606\n",
            "25                      Mexico  0.054098\n",
            "12                   Guatemala  0.047619\n",
            "3                     Columbia  0.035714\n",
            "5           Dominican-Republic  0.029851\n",
            "27  Outlying-US(Guam-USVI-etc)  0.000000\n",
            "14          Holand-Netherlands  0.000000\n",
            "\n",
            "   capital_gain_yn    target\n",
            "1                1  0.628448\n",
            "0                0  0.214053\n",
            "\n",
            "   capital_loss_yn    target\n",
            "1                1  0.516468\n",
            "0                0  0.235636\n",
            "\n"
          ]
        }
      ]
    },
    {
      "cell_type": "code",
      "source": [
        "from sklearn.preprocessing import LabelEncoder\n",
        "X = pd.concat([X_train, X_test])\n",
        "for _col in categoric_:\n",
        "  le = LabelEncoder()\n",
        "  le.fit(X_train[_col])\n",
        "  X_train[_col] = le.transform(X_train[_col])\n",
        "  X_test[_col] = le.transform(X_test[_col])"
      ],
      "metadata": {
        "id": "bTjBrDEjFHOT"
      },
      "execution_count": 39,
      "outputs": []
    },
    {
      "cell_type": "code",
      "source": [
        "X_train"
      ],
      "metadata": {
        "colab": {
          "base_uri": "https://localhost:8080/",
          "height": 488
        },
        "id": "kTjNsbM7GEWY",
        "outputId": "3d237f3b-d8b2-47c7-d1a1-586e8adeb7ce"
      },
      "execution_count": 40,
      "outputs": [
        {
          "output_type": "execute_result",
          "data": {
            "text/plain": [
              "       age  workclass  education_num  marital_status  occupation  \\\n",
              "0       39          5             13               4           0   \n",
              "1       50          4             13               2           3   \n",
              "2       38          2              9               0           5   \n",
              "3       53          2              7               2           5   \n",
              "4       28          2             13               2           9   \n",
              "...    ...        ...            ...             ...         ...   \n",
              "30157   27          2             12               2          12   \n",
              "30158   40          2              9               2           6   \n",
              "30159   58          2              9               6           0   \n",
              "30160   22          2              9               4           0   \n",
              "30161   52          3              9               2           3   \n",
              "\n",
              "       relationship  race  sex  capital_gain  capital_loss  hours_per_week  \\\n",
              "0                 1     4    1          2174             0              40   \n",
              "1                 0     4    1             0             0              13   \n",
              "2                 1     4    1             0             0              40   \n",
              "3                 0     2    1             0             0              40   \n",
              "4                 5     2    0             0             0              40   \n",
              "...             ...   ...  ...           ...           ...             ...   \n",
              "30157             5     4    0             0             0              38   \n",
              "30158             0     4    1             0             0              40   \n",
              "30159             4     4    0             0             0              40   \n",
              "30160             3     4    1             0             0              20   \n",
              "30161             5     4    0         15024             0              40   \n",
              "\n",
              "       native_country  capital_gain_yn  capital_loss_yn  \n",
              "0                  38                1                0  \n",
              "1                  38                0                0  \n",
              "2                  38                0                0  \n",
              "3                  38                0                0  \n",
              "4                   4                0                0  \n",
              "...               ...              ...              ...  \n",
              "30157              38                0                0  \n",
              "30158              38                0                0  \n",
              "30159              38                0                0  \n",
              "30160              38                0                0  \n",
              "30161              38                1                0  \n",
              "\n",
              "[30162 rows x 14 columns]"
            ],
            "text/html": [
              "\n",
              "  <div id=\"df-a06f0eb0-3a9c-4a8d-a0ed-7bfc140664ed\">\n",
              "    <div class=\"colab-df-container\">\n",
              "      <div>\n",
              "<style scoped>\n",
              "    .dataframe tbody tr th:only-of-type {\n",
              "        vertical-align: middle;\n",
              "    }\n",
              "\n",
              "    .dataframe tbody tr th {\n",
              "        vertical-align: top;\n",
              "    }\n",
              "\n",
              "    .dataframe thead th {\n",
              "        text-align: right;\n",
              "    }\n",
              "</style>\n",
              "<table border=\"1\" class=\"dataframe\">\n",
              "  <thead>\n",
              "    <tr style=\"text-align: right;\">\n",
              "      <th></th>\n",
              "      <th>age</th>\n",
              "      <th>workclass</th>\n",
              "      <th>education_num</th>\n",
              "      <th>marital_status</th>\n",
              "      <th>occupation</th>\n",
              "      <th>relationship</th>\n",
              "      <th>race</th>\n",
              "      <th>sex</th>\n",
              "      <th>capital_gain</th>\n",
              "      <th>capital_loss</th>\n",
              "      <th>hours_per_week</th>\n",
              "      <th>native_country</th>\n",
              "      <th>capital_gain_yn</th>\n",
              "      <th>capital_loss_yn</th>\n",
              "    </tr>\n",
              "  </thead>\n",
              "  <tbody>\n",
              "    <tr>\n",
              "      <th>0</th>\n",
              "      <td>39</td>\n",
              "      <td>5</td>\n",
              "      <td>13</td>\n",
              "      <td>4</td>\n",
              "      <td>0</td>\n",
              "      <td>1</td>\n",
              "      <td>4</td>\n",
              "      <td>1</td>\n",
              "      <td>2174</td>\n",
              "      <td>0</td>\n",
              "      <td>40</td>\n",
              "      <td>38</td>\n",
              "      <td>1</td>\n",
              "      <td>0</td>\n",
              "    </tr>\n",
              "    <tr>\n",
              "      <th>1</th>\n",
              "      <td>50</td>\n",
              "      <td>4</td>\n",
              "      <td>13</td>\n",
              "      <td>2</td>\n",
              "      <td>3</td>\n",
              "      <td>0</td>\n",
              "      <td>4</td>\n",
              "      <td>1</td>\n",
              "      <td>0</td>\n",
              "      <td>0</td>\n",
              "      <td>13</td>\n",
              "      <td>38</td>\n",
              "      <td>0</td>\n",
              "      <td>0</td>\n",
              "    </tr>\n",
              "    <tr>\n",
              "      <th>2</th>\n",
              "      <td>38</td>\n",
              "      <td>2</td>\n",
              "      <td>9</td>\n",
              "      <td>0</td>\n",
              "      <td>5</td>\n",
              "      <td>1</td>\n",
              "      <td>4</td>\n",
              "      <td>1</td>\n",
              "      <td>0</td>\n",
              "      <td>0</td>\n",
              "      <td>40</td>\n",
              "      <td>38</td>\n",
              "      <td>0</td>\n",
              "      <td>0</td>\n",
              "    </tr>\n",
              "    <tr>\n",
              "      <th>3</th>\n",
              "      <td>53</td>\n",
              "      <td>2</td>\n",
              "      <td>7</td>\n",
              "      <td>2</td>\n",
              "      <td>5</td>\n",
              "      <td>0</td>\n",
              "      <td>2</td>\n",
              "      <td>1</td>\n",
              "      <td>0</td>\n",
              "      <td>0</td>\n",
              "      <td>40</td>\n",
              "      <td>38</td>\n",
              "      <td>0</td>\n",
              "      <td>0</td>\n",
              "    </tr>\n",
              "    <tr>\n",
              "      <th>4</th>\n",
              "      <td>28</td>\n",
              "      <td>2</td>\n",
              "      <td>13</td>\n",
              "      <td>2</td>\n",
              "      <td>9</td>\n",
              "      <td>5</td>\n",
              "      <td>2</td>\n",
              "      <td>0</td>\n",
              "      <td>0</td>\n",
              "      <td>0</td>\n",
              "      <td>40</td>\n",
              "      <td>4</td>\n",
              "      <td>0</td>\n",
              "      <td>0</td>\n",
              "    </tr>\n",
              "    <tr>\n",
              "      <th>...</th>\n",
              "      <td>...</td>\n",
              "      <td>...</td>\n",
              "      <td>...</td>\n",
              "      <td>...</td>\n",
              "      <td>...</td>\n",
              "      <td>...</td>\n",
              "      <td>...</td>\n",
              "      <td>...</td>\n",
              "      <td>...</td>\n",
              "      <td>...</td>\n",
              "      <td>...</td>\n",
              "      <td>...</td>\n",
              "      <td>...</td>\n",
              "      <td>...</td>\n",
              "    </tr>\n",
              "    <tr>\n",
              "      <th>30157</th>\n",
              "      <td>27</td>\n",
              "      <td>2</td>\n",
              "      <td>12</td>\n",
              "      <td>2</td>\n",
              "      <td>12</td>\n",
              "      <td>5</td>\n",
              "      <td>4</td>\n",
              "      <td>0</td>\n",
              "      <td>0</td>\n",
              "      <td>0</td>\n",
              "      <td>38</td>\n",
              "      <td>38</td>\n",
              "      <td>0</td>\n",
              "      <td>0</td>\n",
              "    </tr>\n",
              "    <tr>\n",
              "      <th>30158</th>\n",
              "      <td>40</td>\n",
              "      <td>2</td>\n",
              "      <td>9</td>\n",
              "      <td>2</td>\n",
              "      <td>6</td>\n",
              "      <td>0</td>\n",
              "      <td>4</td>\n",
              "      <td>1</td>\n",
              "      <td>0</td>\n",
              "      <td>0</td>\n",
              "      <td>40</td>\n",
              "      <td>38</td>\n",
              "      <td>0</td>\n",
              "      <td>0</td>\n",
              "    </tr>\n",
              "    <tr>\n",
              "      <th>30159</th>\n",
              "      <td>58</td>\n",
              "      <td>2</td>\n",
              "      <td>9</td>\n",
              "      <td>6</td>\n",
              "      <td>0</td>\n",
              "      <td>4</td>\n",
              "      <td>4</td>\n",
              "      <td>0</td>\n",
              "      <td>0</td>\n",
              "      <td>0</td>\n",
              "      <td>40</td>\n",
              "      <td>38</td>\n",
              "      <td>0</td>\n",
              "      <td>0</td>\n",
              "    </tr>\n",
              "    <tr>\n",
              "      <th>30160</th>\n",
              "      <td>22</td>\n",
              "      <td>2</td>\n",
              "      <td>9</td>\n",
              "      <td>4</td>\n",
              "      <td>0</td>\n",
              "      <td>3</td>\n",
              "      <td>4</td>\n",
              "      <td>1</td>\n",
              "      <td>0</td>\n",
              "      <td>0</td>\n",
              "      <td>20</td>\n",
              "      <td>38</td>\n",
              "      <td>0</td>\n",
              "      <td>0</td>\n",
              "    </tr>\n",
              "    <tr>\n",
              "      <th>30161</th>\n",
              "      <td>52</td>\n",
              "      <td>3</td>\n",
              "      <td>9</td>\n",
              "      <td>2</td>\n",
              "      <td>3</td>\n",
              "      <td>5</td>\n",
              "      <td>4</td>\n",
              "      <td>0</td>\n",
              "      <td>15024</td>\n",
              "      <td>0</td>\n",
              "      <td>40</td>\n",
              "      <td>38</td>\n",
              "      <td>1</td>\n",
              "      <td>0</td>\n",
              "    </tr>\n",
              "  </tbody>\n",
              "</table>\n",
              "<p>30162 rows × 14 columns</p>\n",
              "</div>\n",
              "      <button class=\"colab-df-convert\" onclick=\"convertToInteractive('df-a06f0eb0-3a9c-4a8d-a0ed-7bfc140664ed')\"\n",
              "              title=\"Convert this dataframe to an interactive table.\"\n",
              "              style=\"display:none;\">\n",
              "        \n",
              "  <svg xmlns=\"http://www.w3.org/2000/svg\" height=\"24px\"viewBox=\"0 0 24 24\"\n",
              "       width=\"24px\">\n",
              "    <path d=\"M0 0h24v24H0V0z\" fill=\"none\"/>\n",
              "    <path d=\"M18.56 5.44l.94 2.06.94-2.06 2.06-.94-2.06-.94-.94-2.06-.94 2.06-2.06.94zm-11 1L8.5 8.5l.94-2.06 2.06-.94-2.06-.94L8.5 2.5l-.94 2.06-2.06.94zm10 10l.94 2.06.94-2.06 2.06-.94-2.06-.94-.94-2.06-.94 2.06-2.06.94z\"/><path d=\"M17.41 7.96l-1.37-1.37c-.4-.4-.92-.59-1.43-.59-.52 0-1.04.2-1.43.59L10.3 9.45l-7.72 7.72c-.78.78-.78 2.05 0 2.83L4 21.41c.39.39.9.59 1.41.59.51 0 1.02-.2 1.41-.59l7.78-7.78 2.81-2.81c.8-.78.8-2.07 0-2.86zM5.41 20L4 18.59l7.72-7.72 1.47 1.35L5.41 20z\"/>\n",
              "  </svg>\n",
              "      </button>\n",
              "      \n",
              "  <style>\n",
              "    .colab-df-container {\n",
              "      display:flex;\n",
              "      flex-wrap:wrap;\n",
              "      gap: 12px;\n",
              "    }\n",
              "\n",
              "    .colab-df-convert {\n",
              "      background-color: #E8F0FE;\n",
              "      border: none;\n",
              "      border-radius: 50%;\n",
              "      cursor: pointer;\n",
              "      display: none;\n",
              "      fill: #1967D2;\n",
              "      height: 32px;\n",
              "      padding: 0 0 0 0;\n",
              "      width: 32px;\n",
              "    }\n",
              "\n",
              "    .colab-df-convert:hover {\n",
              "      background-color: #E2EBFA;\n",
              "      box-shadow: 0px 1px 2px rgba(60, 64, 67, 0.3), 0px 1px 3px 1px rgba(60, 64, 67, 0.15);\n",
              "      fill: #174EA6;\n",
              "    }\n",
              "\n",
              "    [theme=dark] .colab-df-convert {\n",
              "      background-color: #3B4455;\n",
              "      fill: #D2E3FC;\n",
              "    }\n",
              "\n",
              "    [theme=dark] .colab-df-convert:hover {\n",
              "      background-color: #434B5C;\n",
              "      box-shadow: 0px 1px 3px 1px rgba(0, 0, 0, 0.15);\n",
              "      filter: drop-shadow(0px 1px 2px rgba(0, 0, 0, 0.3));\n",
              "      fill: #FFFFFF;\n",
              "    }\n",
              "  </style>\n",
              "\n",
              "      <script>\n",
              "        const buttonEl =\n",
              "          document.querySelector('#df-a06f0eb0-3a9c-4a8d-a0ed-7bfc140664ed button.colab-df-convert');\n",
              "        buttonEl.style.display =\n",
              "          google.colab.kernel.accessAllowed ? 'block' : 'none';\n",
              "\n",
              "        async function convertToInteractive(key) {\n",
              "          const element = document.querySelector('#df-a06f0eb0-3a9c-4a8d-a0ed-7bfc140664ed');\n",
              "          const dataTable =\n",
              "            await google.colab.kernel.invokeFunction('convertToInteractive',\n",
              "                                                     [key], {});\n",
              "          if (!dataTable) return;\n",
              "\n",
              "          const docLinkHtml = 'Like what you see? Visit the ' +\n",
              "            '<a target=\"_blank\" href=https://colab.research.google.com/notebooks/data_table.ipynb>data table notebook</a>'\n",
              "            + ' to learn more about interactive tables.';\n",
              "          element.innerHTML = '';\n",
              "          dataTable['output_type'] = 'display_data';\n",
              "          await google.colab.output.renderOutput(dataTable, element);\n",
              "          const docLink = document.createElement('div');\n",
              "          docLink.innerHTML = docLinkHtml;\n",
              "          element.appendChild(docLink);\n",
              "        }\n",
              "      </script>\n",
              "    </div>\n",
              "  </div>\n",
              "  "
            ]
          },
          "metadata": {},
          "execution_count": 40
        }
      ]
    },
    {
      "cell_type": "code",
      "source": [
        "from sklearn.model_selection import train_test_split\n",
        "\n",
        "X_tr, X_val, y_tr, y_val = train_test_split(X_train, y_train, test_size=0.3, stratify=y_train)"
      ],
      "metadata": {
        "id": "LA1S6q3QGY-g"
      },
      "execution_count": 41,
      "outputs": []
    },
    {
      "cell_type": "code",
      "source": [
        "from sklearn.preprocessing import StandardScaler\n",
        "\n",
        "scaler = StandardScaler()\n",
        "X_tr[numeric_] = scaler.fit_transform(X_tr[numeric_])\n",
        "X_val[numeric_] = scaler.fit_transform(X_val[numeric_])\n",
        "X_test[numeric_] = scaler.fit_transform(X_test[numeric_])"
      ],
      "metadata": {
        "id": "473R3WQcHltX"
      },
      "execution_count": 42,
      "outputs": []
    },
    {
      "cell_type": "code",
      "source": [
        "from sklearn.ensemble import RandomForestClassifier\n",
        "\n",
        "model_rf = RandomForestClassifier()\n",
        "model_rf.fit(X_tr, y_tr.values.ravel())"
      ],
      "metadata": {
        "colab": {
          "base_uri": "https://localhost:8080/"
        },
        "id": "qTeR-PygIPZ6",
        "outputId": "9e19bed7-1933-4882-b14a-611367e2443a"
      },
      "execution_count": 46,
      "outputs": [
        {
          "output_type": "execute_result",
          "data": {
            "text/plain": [
              "RandomForestClassifier()"
            ]
          },
          "metadata": {},
          "execution_count": 46
        }
      ]
    },
    {
      "cell_type": "code",
      "source": [
        "from xgboost import XGBClassifier\n",
        "\n",
        "model_xgb1 = XGBClassifier()\n",
        "model_xgb1.fit(X_tr, y_tr.values.ravel())"
      ],
      "metadata": {
        "colab": {
          "base_uri": "https://localhost:8080/"
        },
        "id": "FGxmCWweIY1S",
        "outputId": "75853d53-2fb2-4a11-aedc-091c0f47c163"
      },
      "execution_count": 49,
      "outputs": [
        {
          "output_type": "execute_result",
          "data": {
            "text/plain": [
              "XGBClassifier()"
            ]
          },
          "metadata": {},
          "execution_count": 49
        }
      ]
    },
    {
      "cell_type": "code",
      "source": [
        "model_xgb2 = XGBClassifier(n_estimator=1000, learning_rate=0.1, max_depth=10)\n",
        "model_xgb2.fit(\n",
        "    X_tr, y_tr.values.ravel(),\n",
        "    early_stopping_rounds=50,\n",
        "    eval_metric='auc',\n",
        "    eval_set=[(X_val, y_val)],\n",
        "    verbose=10\n",
        "    )"
      ],
      "metadata": {
        "colab": {
          "base_uri": "https://localhost:8080/"
        },
        "id": "27sqEWeyIhIh",
        "outputId": "a20cafb8-6ae2-4453-8e5f-60354aa0dc44"
      },
      "execution_count": 50,
      "outputs": [
        {
          "output_type": "stream",
          "name": "stdout",
          "text": [
            "[0]\tvalidation_0-auc:0.900523\n",
            "Will train until validation_0-auc hasn't improved in 50 rounds.\n"
          ]
        },
        {
          "output_type": "stream",
          "name": "stderr",
          "text": [
            "/usr/local/lib/python3.7/dist-packages/sklearn/preprocessing/_label.py:133: DataConversionWarning: A column-vector y was passed when a 1d array was expected. Please change the shape of y to (n_samples, ), for example using ravel().\n",
            "  y = column_or_1d(y, warn=True)\n"
          ]
        },
        {
          "output_type": "stream",
          "name": "stdout",
          "text": [
            "[10]\tvalidation_0-auc:0.9084\n",
            "[20]\tvalidation_0-auc:0.908714\n",
            "[30]\tvalidation_0-auc:0.908297\n",
            "[40]\tvalidation_0-auc:0.908293\n",
            "[50]\tvalidation_0-auc:0.90798\n",
            "[60]\tvalidation_0-auc:0.907494\n",
            "Stopping. Best iteration:\n",
            "[17]\tvalidation_0-auc:0.908957\n",
            "\n"
          ]
        },
        {
          "output_type": "execute_result",
          "data": {
            "text/plain": [
              "XGBClassifier(max_depth=10, n_estimator=1000)"
            ]
          },
          "metadata": {},
          "execution_count": 50
        }
      ]
    },
    {
      "cell_type": "code",
      "source": [
        "# 모델 성능의 확인을 위해 ROC-AUC 값을 구한다.\n",
        "\n",
        "from sklearn.metrics import roc_auc_score\n",
        "y_pred_rf = model_rf.predict_proba(X_val)\n",
        "y_pred_xgb1 = model_xgb1.predict_proba(X_val)\n",
        "y_pred_xgb2 = model_xgb2.predict_proba(X_val)\n",
        "\n",
        "score_rf = roc_auc_score(y_val, y_pred_rf[:,1])\n",
        "score_xgb1 = roc_auc_score(y_val, y_pred_xgb1[:,1])\n",
        "score_xgb2 = roc_auc_score(y_val, y_pred_xgb2[:,1])\n",
        "\n",
        "print(score_rf)\n",
        "print(score_xgb1)\n",
        "print(score_xgb2)"
      ],
      "metadata": {
        "colab": {
          "base_uri": "https://localhost:8080/"
        },
        "id": "1-6oEj70JG6d",
        "outputId": "d4af6afc-c0ed-41b7-d73f-2a80ebb8c1bc"
      },
      "execution_count": 53,
      "outputs": [
        {
          "output_type": "stream",
          "name": "stdout",
          "text": [
            "0.8903453579326999\n",
            "0.915173108186116\n",
            "0.9089566079068945\n"
          ]
        }
      ]
    },
    {
      "cell_type": "code",
      "source": [
        "pd.DataFrame({'feature' : X_tr.columns,\n",
        "             'fi_rf' : model_rf.feature_importances_,\n",
        "             'fi_xgb1' : model_xgb1.feature_importances_,\n",
        "             'fi_xgb2' : model_xgb2.feature_importances_})"
      ],
      "metadata": {
        "colab": {
          "base_uri": "https://localhost:8080/",
          "height": 488
        },
        "id": "cQW9NkLaKLlg",
        "outputId": "6c23de55-b98e-4365-b176-9eb2a27a49c0"
      },
      "execution_count": 55,
      "outputs": [
        {
          "output_type": "execute_result",
          "data": {
            "text/plain": [
              "            feature     fi_rf   fi_xgb1   fi_xgb2\n",
              "0               age  0.224820  0.066426  0.022306\n",
              "1         workclass  0.047805  0.021024  0.016825\n",
              "2     education_num  0.134536  0.145185  0.094276\n",
              "3    marital_status  0.071242  0.130238  0.126488\n",
              "4        occupation  0.087564  0.041814  0.021096\n",
              "5      relationship  0.111569  0.346526  0.452316\n",
              "6              race  0.017296  0.008009  0.013533\n",
              "7               sex  0.012098  0.022623  0.014102\n",
              "8      capital_gain  0.098653  0.118362  0.151379\n",
              "9      capital_loss  0.033828  0.044444  0.050485\n",
              "10   hours_per_week  0.110442  0.050892  0.024184\n",
              "11   native_country  0.019326  0.004457  0.013012\n",
              "12  capital_gain_yn  0.023482  0.000000  0.000000\n",
              "13  capital_loss_yn  0.007340  0.000000  0.000000"
            ],
            "text/html": [
              "\n",
              "  <div id=\"df-22f6082a-5ced-45d5-9abf-ec1e341e7ae7\">\n",
              "    <div class=\"colab-df-container\">\n",
              "      <div>\n",
              "<style scoped>\n",
              "    .dataframe tbody tr th:only-of-type {\n",
              "        vertical-align: middle;\n",
              "    }\n",
              "\n",
              "    .dataframe tbody tr th {\n",
              "        vertical-align: top;\n",
              "    }\n",
              "\n",
              "    .dataframe thead th {\n",
              "        text-align: right;\n",
              "    }\n",
              "</style>\n",
              "<table border=\"1\" class=\"dataframe\">\n",
              "  <thead>\n",
              "    <tr style=\"text-align: right;\">\n",
              "      <th></th>\n",
              "      <th>feature</th>\n",
              "      <th>fi_rf</th>\n",
              "      <th>fi_xgb1</th>\n",
              "      <th>fi_xgb2</th>\n",
              "    </tr>\n",
              "  </thead>\n",
              "  <tbody>\n",
              "    <tr>\n",
              "      <th>0</th>\n",
              "      <td>age</td>\n",
              "      <td>0.224820</td>\n",
              "      <td>0.066426</td>\n",
              "      <td>0.022306</td>\n",
              "    </tr>\n",
              "    <tr>\n",
              "      <th>1</th>\n",
              "      <td>workclass</td>\n",
              "      <td>0.047805</td>\n",
              "      <td>0.021024</td>\n",
              "      <td>0.016825</td>\n",
              "    </tr>\n",
              "    <tr>\n",
              "      <th>2</th>\n",
              "      <td>education_num</td>\n",
              "      <td>0.134536</td>\n",
              "      <td>0.145185</td>\n",
              "      <td>0.094276</td>\n",
              "    </tr>\n",
              "    <tr>\n",
              "      <th>3</th>\n",
              "      <td>marital_status</td>\n",
              "      <td>0.071242</td>\n",
              "      <td>0.130238</td>\n",
              "      <td>0.126488</td>\n",
              "    </tr>\n",
              "    <tr>\n",
              "      <th>4</th>\n",
              "      <td>occupation</td>\n",
              "      <td>0.087564</td>\n",
              "      <td>0.041814</td>\n",
              "      <td>0.021096</td>\n",
              "    </tr>\n",
              "    <tr>\n",
              "      <th>5</th>\n",
              "      <td>relationship</td>\n",
              "      <td>0.111569</td>\n",
              "      <td>0.346526</td>\n",
              "      <td>0.452316</td>\n",
              "    </tr>\n",
              "    <tr>\n",
              "      <th>6</th>\n",
              "      <td>race</td>\n",
              "      <td>0.017296</td>\n",
              "      <td>0.008009</td>\n",
              "      <td>0.013533</td>\n",
              "    </tr>\n",
              "    <tr>\n",
              "      <th>7</th>\n",
              "      <td>sex</td>\n",
              "      <td>0.012098</td>\n",
              "      <td>0.022623</td>\n",
              "      <td>0.014102</td>\n",
              "    </tr>\n",
              "    <tr>\n",
              "      <th>8</th>\n",
              "      <td>capital_gain</td>\n",
              "      <td>0.098653</td>\n",
              "      <td>0.118362</td>\n",
              "      <td>0.151379</td>\n",
              "    </tr>\n",
              "    <tr>\n",
              "      <th>9</th>\n",
              "      <td>capital_loss</td>\n",
              "      <td>0.033828</td>\n",
              "      <td>0.044444</td>\n",
              "      <td>0.050485</td>\n",
              "    </tr>\n",
              "    <tr>\n",
              "      <th>10</th>\n",
              "      <td>hours_per_week</td>\n",
              "      <td>0.110442</td>\n",
              "      <td>0.050892</td>\n",
              "      <td>0.024184</td>\n",
              "    </tr>\n",
              "    <tr>\n",
              "      <th>11</th>\n",
              "      <td>native_country</td>\n",
              "      <td>0.019326</td>\n",
              "      <td>0.004457</td>\n",
              "      <td>0.013012</td>\n",
              "    </tr>\n",
              "    <tr>\n",
              "      <th>12</th>\n",
              "      <td>capital_gain_yn</td>\n",
              "      <td>0.023482</td>\n",
              "      <td>0.000000</td>\n",
              "      <td>0.000000</td>\n",
              "    </tr>\n",
              "    <tr>\n",
              "      <th>13</th>\n",
              "      <td>capital_loss_yn</td>\n",
              "      <td>0.007340</td>\n",
              "      <td>0.000000</td>\n",
              "      <td>0.000000</td>\n",
              "    </tr>\n",
              "  </tbody>\n",
              "</table>\n",
              "</div>\n",
              "      <button class=\"colab-df-convert\" onclick=\"convertToInteractive('df-22f6082a-5ced-45d5-9abf-ec1e341e7ae7')\"\n",
              "              title=\"Convert this dataframe to an interactive table.\"\n",
              "              style=\"display:none;\">\n",
              "        \n",
              "  <svg xmlns=\"http://www.w3.org/2000/svg\" height=\"24px\"viewBox=\"0 0 24 24\"\n",
              "       width=\"24px\">\n",
              "    <path d=\"M0 0h24v24H0V0z\" fill=\"none\"/>\n",
              "    <path d=\"M18.56 5.44l.94 2.06.94-2.06 2.06-.94-2.06-.94-.94-2.06-.94 2.06-2.06.94zm-11 1L8.5 8.5l.94-2.06 2.06-.94-2.06-.94L8.5 2.5l-.94 2.06-2.06.94zm10 10l.94 2.06.94-2.06 2.06-.94-2.06-.94-.94-2.06-.94 2.06-2.06.94z\"/><path d=\"M17.41 7.96l-1.37-1.37c-.4-.4-.92-.59-1.43-.59-.52 0-1.04.2-1.43.59L10.3 9.45l-7.72 7.72c-.78.78-.78 2.05 0 2.83L4 21.41c.39.39.9.59 1.41.59.51 0 1.02-.2 1.41-.59l7.78-7.78 2.81-2.81c.8-.78.8-2.07 0-2.86zM5.41 20L4 18.59l7.72-7.72 1.47 1.35L5.41 20z\"/>\n",
              "  </svg>\n",
              "      </button>\n",
              "      \n",
              "  <style>\n",
              "    .colab-df-container {\n",
              "      display:flex;\n",
              "      flex-wrap:wrap;\n",
              "      gap: 12px;\n",
              "    }\n",
              "\n",
              "    .colab-df-convert {\n",
              "      background-color: #E8F0FE;\n",
              "      border: none;\n",
              "      border-radius: 50%;\n",
              "      cursor: pointer;\n",
              "      display: none;\n",
              "      fill: #1967D2;\n",
              "      height: 32px;\n",
              "      padding: 0 0 0 0;\n",
              "      width: 32px;\n",
              "    }\n",
              "\n",
              "    .colab-df-convert:hover {\n",
              "      background-color: #E2EBFA;\n",
              "      box-shadow: 0px 1px 2px rgba(60, 64, 67, 0.3), 0px 1px 3px 1px rgba(60, 64, 67, 0.15);\n",
              "      fill: #174EA6;\n",
              "    }\n",
              "\n",
              "    [theme=dark] .colab-df-convert {\n",
              "      background-color: #3B4455;\n",
              "      fill: #D2E3FC;\n",
              "    }\n",
              "\n",
              "    [theme=dark] .colab-df-convert:hover {\n",
              "      background-color: #434B5C;\n",
              "      box-shadow: 0px 1px 3px 1px rgba(0, 0, 0, 0.15);\n",
              "      filter: drop-shadow(0px 1px 2px rgba(0, 0, 0, 0.3));\n",
              "      fill: #FFFFFF;\n",
              "    }\n",
              "  </style>\n",
              "\n",
              "      <script>\n",
              "        const buttonEl =\n",
              "          document.querySelector('#df-22f6082a-5ced-45d5-9abf-ec1e341e7ae7 button.colab-df-convert');\n",
              "        buttonEl.style.display =\n",
              "          google.colab.kernel.accessAllowed ? 'block' : 'none';\n",
              "\n",
              "        async function convertToInteractive(key) {\n",
              "          const element = document.querySelector('#df-22f6082a-5ced-45d5-9abf-ec1e341e7ae7');\n",
              "          const dataTable =\n",
              "            await google.colab.kernel.invokeFunction('convertToInteractive',\n",
              "                                                     [key], {});\n",
              "          if (!dataTable) return;\n",
              "\n",
              "          const docLinkHtml = 'Like what you see? Visit the ' +\n",
              "            '<a target=\"_blank\" href=https://colab.research.google.com/notebooks/data_table.ipynb>data table notebook</a>'\n",
              "            + ' to learn more about interactive tables.';\n",
              "          element.innerHTML = '';\n",
              "          dataTable['output_type'] = 'display_data';\n",
              "          await google.colab.output.renderOutput(dataTable, element);\n",
              "          const docLink = document.createElement('div');\n",
              "          docLink.innerHTML = docLinkHtml;\n",
              "          element.appendChild(docLink);\n",
              "        }\n",
              "      </script>\n",
              "    </div>\n",
              "  </div>\n",
              "  "
            ]
          },
          "metadata": {},
          "execution_count": 55
        }
      ]
    },
    {
      "cell_type": "code",
      "source": [
        "# 우리가 라벨링 해 준 capital_gain_yn, loss_yn 등이 라벨링 전 보다 중요도가 낮은 걸 확인할 수 있다. 제거해준다.\n",
        "\n",
        "X_train.drop(['capital_gain_yn', 'capital_loss_yn'], axis=1, inplace=True)\n",
        "X_test.drop(['capital_gain_yn', 'capital_loss_yn'], axis=1, inplace=True)\n",
        "X_val.drop(['capital_gain_yn', 'capital_loss_yn'], axis=1, inplace=True)"
      ],
      "metadata": {
        "id": "aczkah0HLpiX"
      },
      "execution_count": 60,
      "outputs": []
    },
    {
      "cell_type": "code",
      "source": [
        "from sklearn.model_selection import GridSearchCV\n",
        "\n",
        "grid_params = {'n_estimators' : [50, 100, 200],\n",
        "               'max_depth' : [5, 10, 15],\n",
        "               'min_samples_split' : [2, 5, 10],\n",
        "               'min_samples_leaf' : [1,2,4]}\n",
        "\n",
        "rf_cv = GridSearchCV(estimator=model_rf,\n",
        "                     param_grid = grid_params,\n",
        "                     cv=5)\n",
        "rf_cv.fit(X_train, y_train.values.ravel())\n",
        "# 실제 실행 시간이 오래 걸리기 때문에 시험에서는 제출이 잘 되지 않을 수 있음. 1분 제한시간이 있기 때문임.\n",
        "# 너무 오래걸린다면 하이퍼파라미터를 2~3개씩 나눠서 튜닝을 수행하면 됨"
      ],
      "metadata": {
        "id": "NZrr8JW6MVkH"
      },
      "execution_count": null,
      "outputs": []
    },
    {
      "cell_type": "code",
      "source": [
        "pd.DataFrame(rf_cv,cv_results_).head()"
      ],
      "metadata": {
        "id": "I93YEBr5MfZZ"
      },
      "execution_count": 62,
      "outputs": []
    },
    {
      "cell_type": "code",
      "source": [
        "print(rf_cv.best_params_)"
      ],
      "metadata": {
        "id": "pc9x88yDMgBb"
      },
      "execution_count": null,
      "outputs": []
    },
    {
      "cell_type": "code",
      "source": [
        "model_rf2 = RandomForestClassifier(n_estimator=50,\n",
        "                                   max_depth=15,\n",
        "                                   min_samples_leaf=1,\n",
        "                                   min_samples_split=5)\n",
        "model_rf2.fit(X_tr,y_tr.values.ravel())\n",
        "\n",
        "y_pred_rf2 = model_rf2.predict_proba(X_val)\n",
        "score_rf2 = roc_auc_score(y_val, y_pred_rf2[:,1])\n",
        "print(score_rf2)\n"
      ],
      "metadata": {
        "id": "FUaBOYM3OZwq"
      },
      "execution_count": null,
      "outputs": []
    },
    {
      "cell_type": "code",
      "source": [
        "grid_params = {'max_depth' : [3, 5, 7, 10],\n",
        "               'min_child_weight' : [1, 2],\n",
        "               'colsample_bytree' : [0.6, 0.8],\n",
        "               'subsample' : [0.6, 0.8]}\n",
        "\n",
        "xgb_cv = GridSearchCV(estimator = model_xgb1, param_grid=grid_params, cv=5)\n",
        "xgb_cv.fit(X_tr, y_tr.values.ravel())\n",
        "\n",
        "print(xgb_cv.best_params_)"
      ],
      "metadata": {
        "id": "zSFsATQTO6Eh"
      },
      "execution_count": null,
      "outputs": []
    },
    {
      "cell_type": "code",
      "source": [
        "params = {'max_depth' : [3, 5, 7, 10],\n",
        "          'min_child_weight' : [1, 2],\n",
        "          'colsample_bytree' : [0.6, 0.8],\n",
        "          'subsample' : [0.6, 0.8]}\n",
        "\n",
        "model_xgb3 = XGBClassifier(n_estimators=1000, learning_rate=0.05)\n",
        "model_xgb3.set_params(**params)\n",
        "\n",
        "model_xgb3.fit(X_tr, y_tr,\n",
        "               early_stopping_rounds=50,\n",
        "               eval_metric='auc',\n",
        "               eval_set=[(X_val,y_val)],\n",
        "               verbose=10)\n",
        "\n",
        "print(model_xgb3.best_score)"
      ],
      "metadata": {
        "id": "kXOCwh-0PeXR"
      },
      "execution_count": null,
      "outputs": []
    },
    {
      "cell_type": "code",
      "source": [
        "pred = model_xgb3.predict_proba(X_test)[:,1]\n",
        "pd.DataFrame({'index' : X_test.index, 'target' : pred}).to_csv()"
      ],
      "metadata": {
        "id": "Q831Ef39QO-3"
      },
      "execution_count": null,
      "outputs": []
    }
  ]
}