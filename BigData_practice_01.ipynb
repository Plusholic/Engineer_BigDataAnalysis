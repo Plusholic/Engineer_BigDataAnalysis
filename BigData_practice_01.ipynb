{
  "nbformat": 4,
  "nbformat_minor": 0,
  "metadata": {
    "colab": {
      "name": "BigData_practice_01.ipynb",
      "provenance": [],
      "collapsed_sections": []
    },
    "kernelspec": {
      "name": "python3",
      "display_name": "Python 3"
    },
    "language_info": {
      "name": "python"
    }
  },
  "cells": [
    {
      "cell_type": "code",
      "execution_count": 1,
      "metadata": {
        "colab": {
          "base_uri": "https://localhost:8080/"
        },
        "id": "x8Wn4Her_Miu",
        "outputId": "3ebee2e7-2699-4b77-aaa0-156a41f444bf"
      },
      "outputs": [
        {
          "output_type": "stream",
          "name": "stdout",
          "text": [
            "Cloning into 'yemoonsaBigdata'...\n",
            "remote: Enumerating objects: 481, done.\u001b[K\n",
            "remote: Counting objects: 100% (118/118), done.\u001b[K\n",
            "remote: Compressing objects: 100% (74/74), done.\u001b[K\n",
            "remote: Total 481 (delta 64), reused 49 (delta 44), pack-reused 363\u001b[K\n",
            "Receiving objects: 100% (481/481), 8.88 MiB | 10.72 MiB/s, done.\n",
            "Resolving deltas: 100% (249/249), done.\n"
          ]
        }
      ],
      "source": [
        "!git clone https://github.com/AnalyticsKnight/yemoonsaBigdata/"
      ]
    },
    {
      "cell_type": "code",
      "source": [
        "import pandas as pd\n",
        "import numpy as np\n",
        "\n",
        "X_train = pd.read_csv(\"/content/yemoonsaBigdata/datasets/Part2/mpg_X_train.csv\")\n",
        "X_test = pd.read_csv(\"/content/yemoonsaBigdata/datasets/Part2/mpg_X_test.csv\")\n",
        "y_train = pd.read_csv(\"/content/yemoonsaBigdata/datasets/Part2/mpg_y_train.csv\")\n",
        "\n",
        "\n",
        "X_train.info()"
      ],
      "metadata": {
        "id": "P3LDvBG3_Tfh",
        "colab": {
          "base_uri": "https://localhost:8080/"
        },
        "outputId": "47b72793-1bbe-42d3-ca34-a66fb42e1be4"
      },
      "execution_count": 41,
      "outputs": [
        {
          "output_type": "stream",
          "name": "stdout",
          "text": [
            "<class 'pandas.core.frame.DataFrame'>\n",
            "RangeIndex: 278 entries, 0 to 277\n",
            "Data columns (total 8 columns):\n",
            " #   Column        Non-Null Count  Dtype  \n",
            "---  ------        --------------  -----  \n",
            " 0   name          278 non-null    object \n",
            " 1   mpg           278 non-null    float64\n",
            " 2   cylinders     278 non-null    int64  \n",
            " 3   displacement  278 non-null    float64\n",
            " 4   horsepower    274 non-null    float64\n",
            " 5   weight        278 non-null    int64  \n",
            " 6   acceleration  278 non-null    float64\n",
            " 7   model_year    278 non-null    int64  \n",
            "dtypes: float64(4), int64(3), object(1)\n",
            "memory usage: 17.5+ KB\n"
          ]
        }
      ]
    },
    {
      "cell_type": "markdown",
      "source": [
        "데이터 전처리\n",
        "데이터 기본정보 확인"
      ],
      "metadata": {
        "id": "0RL8cbhyMc9M"
      }
    },
    {
      "cell_type": "code",
      "source": [
        "# 결측치를 채워주기 위해서 sklearn의 impute 사용\n",
        "from sklearn.impute import SimpleImputer\n",
        "\n",
        "# NaN으로 표시된 결측치를 mean으로 대체. strategy = constant로 하고 fill_value=0으로 하면 fillna()와 동일한 동작을 함.\n",
        "imputer = SimpleImputer(missing_values=np.nan, strategy = 'mean')\n",
        "\n",
        "# X_train['horsepower'] -> series X_train[['horsepower']] -> DataFrame\n",
        "X_train[['horsepower']] = imputer.fit_transform(X_train[['horsepower']])\n",
        "X_test[['horsepower']] = imputer.fit_transform(X_test[['horsepower']])"
      ],
      "metadata": {
        "id": "uJ5pX_EkNFtA"
      },
      "execution_count": 42,
      "outputs": []
    },
    {
      "cell_type": "code",
      "source": [
        "type(X_train['horsepower']), type(X_train[['horsepower']])"
      ],
      "metadata": {
        "colab": {
          "base_uri": "https://localhost:8080/"
        },
        "id": "htimqZzpOTZ3",
        "outputId": "73081218-a145-4181-bd5a-88b060d3df9a"
      },
      "execution_count": 43,
      "outputs": [
        {
          "output_type": "execute_result",
          "data": {
            "text/plain": [
              "(pandas.core.series.Series, pandas.core.frame.DataFrame)"
            ]
          },
          "metadata": {},
          "execution_count": 43
        }
      ]
    },
    {
      "cell_type": "code",
      "source": [
        "# 요약 통계량 확인으로 이상치 확인\n",
        "X_train.describe()"
      ],
      "metadata": {
        "colab": {
          "base_uri": "https://localhost:8080/",
          "height": 300
        },
        "id": "ZWZxYCE_Pbq7",
        "outputId": "5315a696-47ec-4ee6-9f32-bab86f361d83"
      },
      "execution_count": 44,
      "outputs": [
        {
          "output_type": "execute_result",
          "data": {
            "text/plain": [
              "              mpg   cylinders  displacement  horsepower       weight  \\\n",
              "count  278.000000  278.000000    278.000000  278.000000   278.000000   \n",
              "mean    23.732734    5.374101    189.994604  103.383212  2948.464029   \n",
              "std      7.647295    1.677084    105.471423   38.695458   862.949746   \n",
              "min     10.000000    3.000000     68.000000   46.000000  1613.000000   \n",
              "25%     18.000000    4.000000     98.000000   75.000000  2206.250000   \n",
              "50%     23.000000    4.000000    140.500000   90.500000  2737.500000   \n",
              "75%     29.000000    6.000000    258.000000  118.750000  3560.000000   \n",
              "max     46.600000    8.000000    455.000000  230.000000  5140.000000   \n",
              "\n",
              "       acceleration  model_year  \n",
              "count    278.000000  278.000000  \n",
              "mean      15.580216   76.057554  \n",
              "std        2.745907    3.605591  \n",
              "min        8.000000   70.000000  \n",
              "25%       14.000000   73.000000  \n",
              "50%       15.500000   76.000000  \n",
              "75%       17.000000   79.000000  \n",
              "max       24.800000   82.000000  "
            ],
            "text/html": [
              "\n",
              "  <div id=\"df-339dc03b-a01b-41ce-ba37-1410c55ecddc\">\n",
              "    <div class=\"colab-df-container\">\n",
              "      <div>\n",
              "<style scoped>\n",
              "    .dataframe tbody tr th:only-of-type {\n",
              "        vertical-align: middle;\n",
              "    }\n",
              "\n",
              "    .dataframe tbody tr th {\n",
              "        vertical-align: top;\n",
              "    }\n",
              "\n",
              "    .dataframe thead th {\n",
              "        text-align: right;\n",
              "    }\n",
              "</style>\n",
              "<table border=\"1\" class=\"dataframe\">\n",
              "  <thead>\n",
              "    <tr style=\"text-align: right;\">\n",
              "      <th></th>\n",
              "      <th>mpg</th>\n",
              "      <th>cylinders</th>\n",
              "      <th>displacement</th>\n",
              "      <th>horsepower</th>\n",
              "      <th>weight</th>\n",
              "      <th>acceleration</th>\n",
              "      <th>model_year</th>\n",
              "    </tr>\n",
              "  </thead>\n",
              "  <tbody>\n",
              "    <tr>\n",
              "      <th>count</th>\n",
              "      <td>278.000000</td>\n",
              "      <td>278.000000</td>\n",
              "      <td>278.000000</td>\n",
              "      <td>278.000000</td>\n",
              "      <td>278.000000</td>\n",
              "      <td>278.000000</td>\n",
              "      <td>278.000000</td>\n",
              "    </tr>\n",
              "    <tr>\n",
              "      <th>mean</th>\n",
              "      <td>23.732734</td>\n",
              "      <td>5.374101</td>\n",
              "      <td>189.994604</td>\n",
              "      <td>103.383212</td>\n",
              "      <td>2948.464029</td>\n",
              "      <td>15.580216</td>\n",
              "      <td>76.057554</td>\n",
              "    </tr>\n",
              "    <tr>\n",
              "      <th>std</th>\n",
              "      <td>7.647295</td>\n",
              "      <td>1.677084</td>\n",
              "      <td>105.471423</td>\n",
              "      <td>38.695458</td>\n",
              "      <td>862.949746</td>\n",
              "      <td>2.745907</td>\n",
              "      <td>3.605591</td>\n",
              "    </tr>\n",
              "    <tr>\n",
              "      <th>min</th>\n",
              "      <td>10.000000</td>\n",
              "      <td>3.000000</td>\n",
              "      <td>68.000000</td>\n",
              "      <td>46.000000</td>\n",
              "      <td>1613.000000</td>\n",
              "      <td>8.000000</td>\n",
              "      <td>70.000000</td>\n",
              "    </tr>\n",
              "    <tr>\n",
              "      <th>25%</th>\n",
              "      <td>18.000000</td>\n",
              "      <td>4.000000</td>\n",
              "      <td>98.000000</td>\n",
              "      <td>75.000000</td>\n",
              "      <td>2206.250000</td>\n",
              "      <td>14.000000</td>\n",
              "      <td>73.000000</td>\n",
              "    </tr>\n",
              "    <tr>\n",
              "      <th>50%</th>\n",
              "      <td>23.000000</td>\n",
              "      <td>4.000000</td>\n",
              "      <td>140.500000</td>\n",
              "      <td>90.500000</td>\n",
              "      <td>2737.500000</td>\n",
              "      <td>15.500000</td>\n",
              "      <td>76.000000</td>\n",
              "    </tr>\n",
              "    <tr>\n",
              "      <th>75%</th>\n",
              "      <td>29.000000</td>\n",
              "      <td>6.000000</td>\n",
              "      <td>258.000000</td>\n",
              "      <td>118.750000</td>\n",
              "      <td>3560.000000</td>\n",
              "      <td>17.000000</td>\n",
              "      <td>79.000000</td>\n",
              "    </tr>\n",
              "    <tr>\n",
              "      <th>max</th>\n",
              "      <td>46.600000</td>\n",
              "      <td>8.000000</td>\n",
              "      <td>455.000000</td>\n",
              "      <td>230.000000</td>\n",
              "      <td>5140.000000</td>\n",
              "      <td>24.800000</td>\n",
              "      <td>82.000000</td>\n",
              "    </tr>\n",
              "  </tbody>\n",
              "</table>\n",
              "</div>\n",
              "      <button class=\"colab-df-convert\" onclick=\"convertToInteractive('df-339dc03b-a01b-41ce-ba37-1410c55ecddc')\"\n",
              "              title=\"Convert this dataframe to an interactive table.\"\n",
              "              style=\"display:none;\">\n",
              "        \n",
              "  <svg xmlns=\"http://www.w3.org/2000/svg\" height=\"24px\"viewBox=\"0 0 24 24\"\n",
              "       width=\"24px\">\n",
              "    <path d=\"M0 0h24v24H0V0z\" fill=\"none\"/>\n",
              "    <path d=\"M18.56 5.44l.94 2.06.94-2.06 2.06-.94-2.06-.94-.94-2.06-.94 2.06-2.06.94zm-11 1L8.5 8.5l.94-2.06 2.06-.94-2.06-.94L8.5 2.5l-.94 2.06-2.06.94zm10 10l.94 2.06.94-2.06 2.06-.94-2.06-.94-.94-2.06-.94 2.06-2.06.94z\"/><path d=\"M17.41 7.96l-1.37-1.37c-.4-.4-.92-.59-1.43-.59-.52 0-1.04.2-1.43.59L10.3 9.45l-7.72 7.72c-.78.78-.78 2.05 0 2.83L4 21.41c.39.39.9.59 1.41.59.51 0 1.02-.2 1.41-.59l7.78-7.78 2.81-2.81c.8-.78.8-2.07 0-2.86zM5.41 20L4 18.59l7.72-7.72 1.47 1.35L5.41 20z\"/>\n",
              "  </svg>\n",
              "      </button>\n",
              "      \n",
              "  <style>\n",
              "    .colab-df-container {\n",
              "      display:flex;\n",
              "      flex-wrap:wrap;\n",
              "      gap: 12px;\n",
              "    }\n",
              "\n",
              "    .colab-df-convert {\n",
              "      background-color: #E8F0FE;\n",
              "      border: none;\n",
              "      border-radius: 50%;\n",
              "      cursor: pointer;\n",
              "      display: none;\n",
              "      fill: #1967D2;\n",
              "      height: 32px;\n",
              "      padding: 0 0 0 0;\n",
              "      width: 32px;\n",
              "    }\n",
              "\n",
              "    .colab-df-convert:hover {\n",
              "      background-color: #E2EBFA;\n",
              "      box-shadow: 0px 1px 2px rgba(60, 64, 67, 0.3), 0px 1px 3px 1px rgba(60, 64, 67, 0.15);\n",
              "      fill: #174EA6;\n",
              "    }\n",
              "\n",
              "    [theme=dark] .colab-df-convert {\n",
              "      background-color: #3B4455;\n",
              "      fill: #D2E3FC;\n",
              "    }\n",
              "\n",
              "    [theme=dark] .colab-df-convert:hover {\n",
              "      background-color: #434B5C;\n",
              "      box-shadow: 0px 1px 3px 1px rgba(0, 0, 0, 0.15);\n",
              "      filter: drop-shadow(0px 1px 2px rgba(0, 0, 0, 0.3));\n",
              "      fill: #FFFFFF;\n",
              "    }\n",
              "  </style>\n",
              "\n",
              "      <script>\n",
              "        const buttonEl =\n",
              "          document.querySelector('#df-339dc03b-a01b-41ce-ba37-1410c55ecddc button.colab-df-convert');\n",
              "        buttonEl.style.display =\n",
              "          google.colab.kernel.accessAllowed ? 'block' : 'none';\n",
              "\n",
              "        async function convertToInteractive(key) {\n",
              "          const element = document.querySelector('#df-339dc03b-a01b-41ce-ba37-1410c55ecddc');\n",
              "          const dataTable =\n",
              "            await google.colab.kernel.invokeFunction('convertToInteractive',\n",
              "                                                     [key], {});\n",
              "          if (!dataTable) return;\n",
              "\n",
              "          const docLinkHtml = 'Like what you see? Visit the ' +\n",
              "            '<a target=\"_blank\" href=https://colab.research.google.com/notebooks/data_table.ipynb>data table notebook</a>'\n",
              "            + ' to learn more about interactive tables.';\n",
              "          element.innerHTML = '';\n",
              "          dataTable['output_type'] = 'display_data';\n",
              "          await google.colab.output.renderOutput(dataTable, element);\n",
              "          const docLink = document.createElement('div');\n",
              "          docLink.innerHTML = docLinkHtml;\n",
              "          element.appendChild(docLink);\n",
              "        }\n",
              "      </script>\n",
              "    </div>\n",
              "  </div>\n",
              "  "
            ]
          },
          "metadata": {},
          "execution_count": 44
        }
      ]
    },
    {
      "cell_type": "code",
      "source": [
        "X_train.corr()"
      ],
      "metadata": {
        "colab": {
          "base_uri": "https://localhost:8080/",
          "height": 269
        },
        "id": "_49Pw4B6s9ra",
        "outputId": "8ec08886-9a46-48ac-d79b-b2cbb43a6a25"
      },
      "execution_count": 45,
      "outputs": [
        {
          "output_type": "execute_result",
          "data": {
            "text/plain": [
              "                   mpg  cylinders  displacement  horsepower    weight  \\\n",
              "mpg           1.000000  -0.767587     -0.791243   -0.761973 -0.832965   \n",
              "cylinders    -0.767587   1.000000      0.948018    0.841028  0.898443   \n",
              "displacement -0.791243   0.948018      1.000000    0.898777  0.943124   \n",
              "horsepower   -0.761973   0.841028      0.898777    1.000000  0.875786   \n",
              "weight       -0.832965   0.898443      0.943124    0.875786  1.000000   \n",
              "acceleration  0.390410  -0.506298     -0.548478   -0.690277 -0.441569   \n",
              "model_year    0.549008  -0.318203     -0.331432   -0.384654 -0.274378   \n",
              "\n",
              "              acceleration  model_year  \n",
              "mpg               0.390410    0.549008  \n",
              "cylinders        -0.506298   -0.318203  \n",
              "displacement     -0.548478   -0.331432  \n",
              "horsepower       -0.690277   -0.384654  \n",
              "weight           -0.441569   -0.274378  \n",
              "acceleration      1.000000    0.253719  \n",
              "model_year        0.253719    1.000000  "
            ],
            "text/html": [
              "\n",
              "  <div id=\"df-7e96fef6-ec7f-4301-b83f-aa0f1e539aef\">\n",
              "    <div class=\"colab-df-container\">\n",
              "      <div>\n",
              "<style scoped>\n",
              "    .dataframe tbody tr th:only-of-type {\n",
              "        vertical-align: middle;\n",
              "    }\n",
              "\n",
              "    .dataframe tbody tr th {\n",
              "        vertical-align: top;\n",
              "    }\n",
              "\n",
              "    .dataframe thead th {\n",
              "        text-align: right;\n",
              "    }\n",
              "</style>\n",
              "<table border=\"1\" class=\"dataframe\">\n",
              "  <thead>\n",
              "    <tr style=\"text-align: right;\">\n",
              "      <th></th>\n",
              "      <th>mpg</th>\n",
              "      <th>cylinders</th>\n",
              "      <th>displacement</th>\n",
              "      <th>horsepower</th>\n",
              "      <th>weight</th>\n",
              "      <th>acceleration</th>\n",
              "      <th>model_year</th>\n",
              "    </tr>\n",
              "  </thead>\n",
              "  <tbody>\n",
              "    <tr>\n",
              "      <th>mpg</th>\n",
              "      <td>1.000000</td>\n",
              "      <td>-0.767587</td>\n",
              "      <td>-0.791243</td>\n",
              "      <td>-0.761973</td>\n",
              "      <td>-0.832965</td>\n",
              "      <td>0.390410</td>\n",
              "      <td>0.549008</td>\n",
              "    </tr>\n",
              "    <tr>\n",
              "      <th>cylinders</th>\n",
              "      <td>-0.767587</td>\n",
              "      <td>1.000000</td>\n",
              "      <td>0.948018</td>\n",
              "      <td>0.841028</td>\n",
              "      <td>0.898443</td>\n",
              "      <td>-0.506298</td>\n",
              "      <td>-0.318203</td>\n",
              "    </tr>\n",
              "    <tr>\n",
              "      <th>displacement</th>\n",
              "      <td>-0.791243</td>\n",
              "      <td>0.948018</td>\n",
              "      <td>1.000000</td>\n",
              "      <td>0.898777</td>\n",
              "      <td>0.943124</td>\n",
              "      <td>-0.548478</td>\n",
              "      <td>-0.331432</td>\n",
              "    </tr>\n",
              "    <tr>\n",
              "      <th>horsepower</th>\n",
              "      <td>-0.761973</td>\n",
              "      <td>0.841028</td>\n",
              "      <td>0.898777</td>\n",
              "      <td>1.000000</td>\n",
              "      <td>0.875786</td>\n",
              "      <td>-0.690277</td>\n",
              "      <td>-0.384654</td>\n",
              "    </tr>\n",
              "    <tr>\n",
              "      <th>weight</th>\n",
              "      <td>-0.832965</td>\n",
              "      <td>0.898443</td>\n",
              "      <td>0.943124</td>\n",
              "      <td>0.875786</td>\n",
              "      <td>1.000000</td>\n",
              "      <td>-0.441569</td>\n",
              "      <td>-0.274378</td>\n",
              "    </tr>\n",
              "    <tr>\n",
              "      <th>acceleration</th>\n",
              "      <td>0.390410</td>\n",
              "      <td>-0.506298</td>\n",
              "      <td>-0.548478</td>\n",
              "      <td>-0.690277</td>\n",
              "      <td>-0.441569</td>\n",
              "      <td>1.000000</td>\n",
              "      <td>0.253719</td>\n",
              "    </tr>\n",
              "    <tr>\n",
              "      <th>model_year</th>\n",
              "      <td>0.549008</td>\n",
              "      <td>-0.318203</td>\n",
              "      <td>-0.331432</td>\n",
              "      <td>-0.384654</td>\n",
              "      <td>-0.274378</td>\n",
              "      <td>0.253719</td>\n",
              "      <td>1.000000</td>\n",
              "    </tr>\n",
              "  </tbody>\n",
              "</table>\n",
              "</div>\n",
              "      <button class=\"colab-df-convert\" onclick=\"convertToInteractive('df-7e96fef6-ec7f-4301-b83f-aa0f1e539aef')\"\n",
              "              title=\"Convert this dataframe to an interactive table.\"\n",
              "              style=\"display:none;\">\n",
              "        \n",
              "  <svg xmlns=\"http://www.w3.org/2000/svg\" height=\"24px\"viewBox=\"0 0 24 24\"\n",
              "       width=\"24px\">\n",
              "    <path d=\"M0 0h24v24H0V0z\" fill=\"none\"/>\n",
              "    <path d=\"M18.56 5.44l.94 2.06.94-2.06 2.06-.94-2.06-.94-.94-2.06-.94 2.06-2.06.94zm-11 1L8.5 8.5l.94-2.06 2.06-.94-2.06-.94L8.5 2.5l-.94 2.06-2.06.94zm10 10l.94 2.06.94-2.06 2.06-.94-2.06-.94-.94-2.06-.94 2.06-2.06.94z\"/><path d=\"M17.41 7.96l-1.37-1.37c-.4-.4-.92-.59-1.43-.59-.52 0-1.04.2-1.43.59L10.3 9.45l-7.72 7.72c-.78.78-.78 2.05 0 2.83L4 21.41c.39.39.9.59 1.41.59.51 0 1.02-.2 1.41-.59l7.78-7.78 2.81-2.81c.8-.78.8-2.07 0-2.86zM5.41 20L4 18.59l7.72-7.72 1.47 1.35L5.41 20z\"/>\n",
              "  </svg>\n",
              "      </button>\n",
              "      \n",
              "  <style>\n",
              "    .colab-df-container {\n",
              "      display:flex;\n",
              "      flex-wrap:wrap;\n",
              "      gap: 12px;\n",
              "    }\n",
              "\n",
              "    .colab-df-convert {\n",
              "      background-color: #E8F0FE;\n",
              "      border: none;\n",
              "      border-radius: 50%;\n",
              "      cursor: pointer;\n",
              "      display: none;\n",
              "      fill: #1967D2;\n",
              "      height: 32px;\n",
              "      padding: 0 0 0 0;\n",
              "      width: 32px;\n",
              "    }\n",
              "\n",
              "    .colab-df-convert:hover {\n",
              "      background-color: #E2EBFA;\n",
              "      box-shadow: 0px 1px 2px rgba(60, 64, 67, 0.3), 0px 1px 3px 1px rgba(60, 64, 67, 0.15);\n",
              "      fill: #174EA6;\n",
              "    }\n",
              "\n",
              "    [theme=dark] .colab-df-convert {\n",
              "      background-color: #3B4455;\n",
              "      fill: #D2E3FC;\n",
              "    }\n",
              "\n",
              "    [theme=dark] .colab-df-convert:hover {\n",
              "      background-color: #434B5C;\n",
              "      box-shadow: 0px 1px 3px 1px rgba(0, 0, 0, 0.15);\n",
              "      filter: drop-shadow(0px 1px 2px rgba(0, 0, 0, 0.3));\n",
              "      fill: #FFFFFF;\n",
              "    }\n",
              "  </style>\n",
              "\n",
              "      <script>\n",
              "        const buttonEl =\n",
              "          document.querySelector('#df-7e96fef6-ec7f-4301-b83f-aa0f1e539aef button.colab-df-convert');\n",
              "        buttonEl.style.display =\n",
              "          google.colab.kernel.accessAllowed ? 'block' : 'none';\n",
              "\n",
              "        async function convertToInteractive(key) {\n",
              "          const element = document.querySelector('#df-7e96fef6-ec7f-4301-b83f-aa0f1e539aef');\n",
              "          const dataTable =\n",
              "            await google.colab.kernel.invokeFunction('convertToInteractive',\n",
              "                                                     [key], {});\n",
              "          if (!dataTable) return;\n",
              "\n",
              "          const docLinkHtml = 'Like what you see? Visit the ' +\n",
              "            '<a target=\"_blank\" href=https://colab.research.google.com/notebooks/data_table.ipynb>data table notebook</a>'\n",
              "            + ' to learn more about interactive tables.';\n",
              "          element.innerHTML = '';\n",
              "          dataTable['output_type'] = 'display_data';\n",
              "          await google.colab.output.renderOutput(dataTable, element);\n",
              "          const docLink = document.createElement('div');\n",
              "          docLink.innerHTML = docLinkHtml;\n",
              "          element.appendChild(docLink);\n",
              "        }\n",
              "      </script>\n",
              "    </div>\n",
              "  </div>\n",
              "  "
            ]
          },
          "metadata": {},
          "execution_count": 45
        }
      ]
    },
    {
      "cell_type": "code",
      "source": [
        "# isUSA는 차량모델의 미국산 여부\n",
        "y_train"
      ],
      "metadata": {
        "colab": {
          "base_uri": "https://localhost:8080/",
          "height": 424
        },
        "id": "B5rrpvIEpqqE",
        "outputId": "e9b05f56-e2d9-4074-c284-c60e477ee068"
      },
      "execution_count": 46,
      "outputs": [
        {
          "output_type": "execute_result",
          "data": {
            "text/plain": [
              "     isUSA\n",
              "0        1\n",
              "1        1\n",
              "2        0\n",
              "3        1\n",
              "4        0\n",
              "..     ...\n",
              "273      0\n",
              "274      0\n",
              "275      1\n",
              "276      1\n",
              "277      1\n",
              "\n",
              "[278 rows x 1 columns]"
            ],
            "text/html": [
              "\n",
              "  <div id=\"df-bd7aec3e-feb5-46d8-a946-2445da059f59\">\n",
              "    <div class=\"colab-df-container\">\n",
              "      <div>\n",
              "<style scoped>\n",
              "    .dataframe tbody tr th:only-of-type {\n",
              "        vertical-align: middle;\n",
              "    }\n",
              "\n",
              "    .dataframe tbody tr th {\n",
              "        vertical-align: top;\n",
              "    }\n",
              "\n",
              "    .dataframe thead th {\n",
              "        text-align: right;\n",
              "    }\n",
              "</style>\n",
              "<table border=\"1\" class=\"dataframe\">\n",
              "  <thead>\n",
              "    <tr style=\"text-align: right;\">\n",
              "      <th></th>\n",
              "      <th>isUSA</th>\n",
              "    </tr>\n",
              "  </thead>\n",
              "  <tbody>\n",
              "    <tr>\n",
              "      <th>0</th>\n",
              "      <td>1</td>\n",
              "    </tr>\n",
              "    <tr>\n",
              "      <th>1</th>\n",
              "      <td>1</td>\n",
              "    </tr>\n",
              "    <tr>\n",
              "      <th>2</th>\n",
              "      <td>0</td>\n",
              "    </tr>\n",
              "    <tr>\n",
              "      <th>3</th>\n",
              "      <td>1</td>\n",
              "    </tr>\n",
              "    <tr>\n",
              "      <th>4</th>\n",
              "      <td>0</td>\n",
              "    </tr>\n",
              "    <tr>\n",
              "      <th>...</th>\n",
              "      <td>...</td>\n",
              "    </tr>\n",
              "    <tr>\n",
              "      <th>273</th>\n",
              "      <td>0</td>\n",
              "    </tr>\n",
              "    <tr>\n",
              "      <th>274</th>\n",
              "      <td>0</td>\n",
              "    </tr>\n",
              "    <tr>\n",
              "      <th>275</th>\n",
              "      <td>1</td>\n",
              "    </tr>\n",
              "    <tr>\n",
              "      <th>276</th>\n",
              "      <td>1</td>\n",
              "    </tr>\n",
              "    <tr>\n",
              "      <th>277</th>\n",
              "      <td>1</td>\n",
              "    </tr>\n",
              "  </tbody>\n",
              "</table>\n",
              "<p>278 rows × 1 columns</p>\n",
              "</div>\n",
              "      <button class=\"colab-df-convert\" onclick=\"convertToInteractive('df-bd7aec3e-feb5-46d8-a946-2445da059f59')\"\n",
              "              title=\"Convert this dataframe to an interactive table.\"\n",
              "              style=\"display:none;\">\n",
              "        \n",
              "  <svg xmlns=\"http://www.w3.org/2000/svg\" height=\"24px\"viewBox=\"0 0 24 24\"\n",
              "       width=\"24px\">\n",
              "    <path d=\"M0 0h24v24H0V0z\" fill=\"none\"/>\n",
              "    <path d=\"M18.56 5.44l.94 2.06.94-2.06 2.06-.94-2.06-.94-.94-2.06-.94 2.06-2.06.94zm-11 1L8.5 8.5l.94-2.06 2.06-.94-2.06-.94L8.5 2.5l-.94 2.06-2.06.94zm10 10l.94 2.06.94-2.06 2.06-.94-2.06-.94-.94-2.06-.94 2.06-2.06.94z\"/><path d=\"M17.41 7.96l-1.37-1.37c-.4-.4-.92-.59-1.43-.59-.52 0-1.04.2-1.43.59L10.3 9.45l-7.72 7.72c-.78.78-.78 2.05 0 2.83L4 21.41c.39.39.9.59 1.41.59.51 0 1.02-.2 1.41-.59l7.78-7.78 2.81-2.81c.8-.78.8-2.07 0-2.86zM5.41 20L4 18.59l7.72-7.72 1.47 1.35L5.41 20z\"/>\n",
              "  </svg>\n",
              "      </button>\n",
              "      \n",
              "  <style>\n",
              "    .colab-df-container {\n",
              "      display:flex;\n",
              "      flex-wrap:wrap;\n",
              "      gap: 12px;\n",
              "    }\n",
              "\n",
              "    .colab-df-convert {\n",
              "      background-color: #E8F0FE;\n",
              "      border: none;\n",
              "      border-radius: 50%;\n",
              "      cursor: pointer;\n",
              "      display: none;\n",
              "      fill: #1967D2;\n",
              "      height: 32px;\n",
              "      padding: 0 0 0 0;\n",
              "      width: 32px;\n",
              "    }\n",
              "\n",
              "    .colab-df-convert:hover {\n",
              "      background-color: #E2EBFA;\n",
              "      box-shadow: 0px 1px 2px rgba(60, 64, 67, 0.3), 0px 1px 3px 1px rgba(60, 64, 67, 0.15);\n",
              "      fill: #174EA6;\n",
              "    }\n",
              "\n",
              "    [theme=dark] .colab-df-convert {\n",
              "      background-color: #3B4455;\n",
              "      fill: #D2E3FC;\n",
              "    }\n",
              "\n",
              "    [theme=dark] .colab-df-convert:hover {\n",
              "      background-color: #434B5C;\n",
              "      box-shadow: 0px 1px 3px 1px rgba(0, 0, 0, 0.15);\n",
              "      filter: drop-shadow(0px 1px 2px rgba(0, 0, 0, 0.3));\n",
              "      fill: #FFFFFF;\n",
              "    }\n",
              "  </style>\n",
              "\n",
              "      <script>\n",
              "        const buttonEl =\n",
              "          document.querySelector('#df-bd7aec3e-feb5-46d8-a946-2445da059f59 button.colab-df-convert');\n",
              "        buttonEl.style.display =\n",
              "          google.colab.kernel.accessAllowed ? 'block' : 'none';\n",
              "\n",
              "        async function convertToInteractive(key) {\n",
              "          const element = document.querySelector('#df-bd7aec3e-feb5-46d8-a946-2445da059f59');\n",
              "          const dataTable =\n",
              "            await google.colab.kernel.invokeFunction('convertToInteractive',\n",
              "                                                     [key], {});\n",
              "          if (!dataTable) return;\n",
              "\n",
              "          const docLinkHtml = 'Like what you see? Visit the ' +\n",
              "            '<a target=\"_blank\" href=https://colab.research.google.com/notebooks/data_table.ipynb>data table notebook</a>'\n",
              "            + ' to learn more about interactive tables.';\n",
              "          element.innerHTML = '';\n",
              "          dataTable['output_type'] = 'display_data';\n",
              "          await google.colab.output.renderOutput(dataTable, element);\n",
              "          const docLink = document.createElement('div');\n",
              "          docLink.innerHTML = docLinkHtml;\n",
              "          element.appendChild(docLink);\n",
              "        }\n",
              "      </script>\n",
              "    </div>\n",
              "  </div>\n",
              "  "
            ]
          },
          "metadata": {},
          "execution_count": 46
        }
      ]
    },
    {
      "cell_type": "code",
      "source": [
        "X_train['name'].value_counts()"
      ],
      "metadata": {
        "colab": {
          "base_uri": "https://localhost:8080/"
        },
        "id": "Cp6Ae6rBp04L",
        "outputId": "4daa07c4-86f4-403f-fa9a-5f9935842de1"
      },
      "execution_count": 47,
      "outputs": [
        {
          "output_type": "execute_result",
          "data": {
            "text/plain": [
              "ford pinto              5\n",
              "toyota corolla          5\n",
              "chevrolet chevette      4\n",
              "ford maverick           4\n",
              "pontiac catalina        3\n",
              "                       ..\n",
              "plymouth horizon tc3    1\n",
              "mazda rx-4              1\n",
              "ford mustang ii 2+2     1\n",
              "ford fiesta             1\n",
              "amc ambassador sst      1\n",
              "Name: name, Length: 221, dtype: int64"
            ]
          },
          "metadata": {},
          "execution_count": 47
        }
      ]
    },
    {
      "cell_type": "code",
      "source": [
        "X_train = X_train.iloc[:,1:]\n",
        "X_test = X_test.iloc[:,1:]\n",
        "# remove [name] column"
      ],
      "metadata": {
        "id": "Fcx2_yWwP0SV"
      },
      "execution_count": 48,
      "outputs": []
    },
    {
      "cell_type": "code",
      "source": [
        "from sklearn.model_selection import train_test_split\n",
        "\n",
        "X_tr, X_val, y_tr, y_val = train_test_split(X_train, y_train, test_size = 0.3)"
      ],
      "metadata": {
        "id": "6QvkgXuPQeKa"
      },
      "execution_count": 49,
      "outputs": []
    },
    {
      "cell_type": "code",
      "source": [
        "from sklearn.preprocessing import StandardScaler\n",
        "\n",
        "scaler = StandardScaler()\n",
        "scaler.fit(X_tr)\n",
        "\n",
        "X_tr = scaler.transform(X_tr)\n",
        "X_val = scaler.transform(X_val)\n",
        "X_test = scaler.transform(X_test)"
      ],
      "metadata": {
        "id": "o3iQM6BkRBC7"
      },
      "execution_count": 50,
      "outputs": []
    },
    {
      "cell_type": "code",
      "source": [
        "X_tr.shape, X_val.shape"
      ],
      "metadata": {
        "colab": {
          "base_uri": "https://localhost:8080/"
        },
        "id": "kT1sxxXywOC0",
        "outputId": "d7a91e42-e494-4a17-cb9c-adba2c5a2094"
      },
      "execution_count": 56,
      "outputs": [
        {
          "output_type": "execute_result",
          "data": {
            "text/plain": [
              "((194, 7), (84, 7))"
            ]
          },
          "metadata": {},
          "execution_count": 56
        }
      ]
    },
    {
      "cell_type": "code",
      "source": [
        "from sklearn.neighbors import KNeighborsClassifier\n",
        "modelKNN = KNeighborsClassifier(n_neighbors=5, metric='euclidean')\n",
        "modelKNN.fit(X_tr, y_tr.values.ravel())\n",
        "\n",
        "from sklearn.tree import DecisionTreeClassifier\n",
        "modelDT = DecisionTreeClassifier(max_depth = 10)\n",
        "modelDT.fit(X_tr, y_tr)"
      ],
      "metadata": {
        "colab": {
          "base_uri": "https://localhost:8080/"
        },
        "id": "QGq1LDuZRLD4",
        "outputId": "ce57b7b8-9253-46e1-818c-7515f53ad7ca"
      },
      "execution_count": 27,
      "outputs": [
        {
          "output_type": "execute_result",
          "data": {
            "text/plain": [
              "DecisionTreeClassifier(max_depth=10)"
            ]
          },
          "metadata": {},
          "execution_count": 27
        }
      ]
    },
    {
      "cell_type": "code",
      "source": [
        "y_val_pred = modelKNN.predict(X_val)\n",
        "\n",
        "y_val_pred_probaKNN = modelKNN.predict_proba(X_val)\n",
        "y_val_pred_probaDT = modelDT.predict_proba(X_val)"
      ],
      "metadata": {
        "id": "Ru2AlQZmRoi0"
      },
      "execution_count": 28,
      "outputs": []
    },
    {
      "cell_type": "code",
      "source": [
        "y_val_pred"
      ],
      "metadata": {
        "colab": {
          "base_uri": "https://localhost:8080/"
        },
        "id": "DDR9U9crx2Fc",
        "outputId": "8683fb65-5d5a-4fc7-ae3c-1572b8bca4fd"
      },
      "execution_count": 57,
      "outputs": [
        {
          "output_type": "execute_result",
          "data": {
            "text/plain": [
              "array([1, 1, 0, 0, 1, 1, 1, 0, 0, 1, 0, 1, 1, 1, 1, 0, 1, 0, 1, 0, 0, 0,\n",
              "       1, 0, 1, 1, 1, 1, 0, 0, 1, 0, 1, 0, 1, 1, 0, 1, 1, 0, 0, 1, 1, 1,\n",
              "       0, 1, 0, 0, 0, 1, 1, 1, 0, 0, 1, 1, 0, 1, 1, 0, 0, 1, 0, 1, 1, 1,\n",
              "       1, 1, 1, 1, 0, 0, 0, 0, 0, 1, 0, 1, 0, 1, 1, 1, 1, 1])"
            ]
          },
          "metadata": {},
          "execution_count": 57
        }
      ]
    },
    {
      "cell_type": "code",
      "source": [
        "y_val_pred_probaKNN"
      ],
      "metadata": {
        "colab": {
          "base_uri": "https://localhost:8080/"
        },
        "id": "rOUliNwYx3ae",
        "outputId": "eff1fb3a-e3f3-4749-f5be-122f63ade3c9"
      },
      "execution_count": 58,
      "outputs": [
        {
          "output_type": "execute_result",
          "data": {
            "text/plain": [
              "array([[0. , 1. ],\n",
              "       [0. , 1. ],\n",
              "       [1. , 0. ],\n",
              "       [0.8, 0.2],\n",
              "       [0. , 1. ],\n",
              "       [0. , 1. ],\n",
              "       [0. , 1. ],\n",
              "       [0.8, 0.2],\n",
              "       [0.6, 0.4],\n",
              "       [0. , 1. ],\n",
              "       [0.6, 0.4],\n",
              "       [0.4, 0.6],\n",
              "       [0. , 1. ],\n",
              "       [0. , 1. ],\n",
              "       [0. , 1. ],\n",
              "       [1. , 0. ],\n",
              "       [0.2, 0.8],\n",
              "       [0.6, 0.4],\n",
              "       [0. , 1. ],\n",
              "       [0.6, 0.4],\n",
              "       [0.6, 0.4],\n",
              "       [0.8, 0.2],\n",
              "       [0. , 1. ],\n",
              "       [0.6, 0.4],\n",
              "       [0. , 1. ],\n",
              "       [0. , 1. ],\n",
              "       [0. , 1. ],\n",
              "       [0.2, 0.8],\n",
              "       [0.6, 0.4],\n",
              "       [0.6, 0.4],\n",
              "       [0. , 1. ],\n",
              "       [1. , 0. ],\n",
              "       [0. , 1. ],\n",
              "       [0.8, 0.2],\n",
              "       [0.2, 0.8],\n",
              "       [0.2, 0.8],\n",
              "       [0.6, 0.4],\n",
              "       [0.2, 0.8],\n",
              "       [0. , 1. ],\n",
              "       [1. , 0. ],\n",
              "       [0.6, 0.4],\n",
              "       [0. , 1. ],\n",
              "       [0. , 1. ],\n",
              "       [0. , 1. ],\n",
              "       [0.8, 0.2],\n",
              "       [0. , 1. ],\n",
              "       [0.8, 0.2],\n",
              "       [0.6, 0.4],\n",
              "       [0.8, 0.2],\n",
              "       [0. , 1. ],\n",
              "       [0. , 1. ],\n",
              "       [0.4, 0.6],\n",
              "       [0.8, 0.2],\n",
              "       [0.8, 0.2],\n",
              "       [0.4, 0.6],\n",
              "       [0.4, 0.6],\n",
              "       [0.8, 0.2],\n",
              "       [0. , 1. ],\n",
              "       [0.4, 0.6],\n",
              "       [0.6, 0.4],\n",
              "       [0.8, 0.2],\n",
              "       [0. , 1. ],\n",
              "       [0.8, 0.2],\n",
              "       [0. , 1. ],\n",
              "       [0. , 1. ],\n",
              "       [0.2, 0.8],\n",
              "       [0.4, 0.6],\n",
              "       [0. , 1. ],\n",
              "       [0. , 1. ],\n",
              "       [0. , 1. ],\n",
              "       [0.6, 0.4],\n",
              "       [1. , 0. ],\n",
              "       [1. , 0. ],\n",
              "       [0.6, 0.4],\n",
              "       [0.6, 0.4],\n",
              "       [0. , 1. ],\n",
              "       [0.8, 0.2],\n",
              "       [0. , 1. ],\n",
              "       [0.8, 0.2],\n",
              "       [0. , 1. ],\n",
              "       [0. , 1. ],\n",
              "       [0. , 1. ],\n",
              "       [0.2, 0.8],\n",
              "       [0.2, 0.8]])"
            ]
          },
          "metadata": {},
          "execution_count": 58
        }
      ]
    },
    {
      "cell_type": "code",
      "source": [
        "from sklearn.metrics import roc_auc_score\n",
        "# pred_proba [:,0] ??\n",
        "scoreKNN = roc_auc_score(y_val, y_val_pred_probaKNN[:,1])\n",
        "scoreDT = roc_auc_score(y_val, y_val_pred_probaDT[:,1])\n",
        "\n",
        "print(scoreKNN, scoreDT)"
      ],
      "metadata": {
        "colab": {
          "base_uri": "https://localhost:8080/"
        },
        "id": "IDLyIvFFShkZ",
        "outputId": "88530986-b610-4615-bb03-1ea9f9460ff6"
      },
      "execution_count": 29,
      "outputs": [
        {
          "output_type": "stream",
          "name": "stdout",
          "text": [
            "0.8843149038461537 0.8545673076923077\n"
          ]
        }
      ]
    },
    {
      "cell_type": "code",
      "source": [
        "best_model = None\n",
        "best_score = 0\n",
        "\n",
        "for i in range(2, 10):\n",
        "  model = KNeighborsClassifier(n_neighbors=i, metric='euclidean')\n",
        "  model.fit(X_tr, y_tr.values.ravel())\n",
        "  y_val_pred_proba = model.predict_proba(X_val)\n",
        "  score = roc_auc_score(y_val, y_val_pred_proba[:,1])\n",
        "  print(i,'개의 이웃확인 : ',score)\n",
        "  if best_score <= score:\n",
        "    best_model = model"
      ],
      "metadata": {
        "colab": {
          "base_uri": "https://localhost:8080/"
        },
        "id": "CQZ5zJnASqUe",
        "outputId": "cfe33fde-88c1-48f7-ac26-0de2e308dff4"
      },
      "execution_count": 59,
      "outputs": [
        {
          "output_type": "stream",
          "name": "stdout",
          "text": [
            "2 개의 이웃확인 :  0.9180374361883153\n",
            "3 개의 이웃확인 :  0.952070334656835\n",
            "4 개의 이웃확인 :  0.9356211003970505\n",
            "5 개의 이웃확인 :  0.9327850255246739\n",
            "6 개의 이웃확인 :  0.9407260351673283\n",
            "7 개의 이웃확인 :  0.9472490073737947\n",
            "8 개의 이웃확인 :  0.9554736245036869\n",
            "9 개의 이웃확인 :  0.9577424844015882\n"
          ]
        }
      ]
    },
    {
      "cell_type": "code",
      "source": [
        "pred = best_model.predict_proba(X_test)[:,1]\n",
        "print(pred)"
      ],
      "metadata": {
        "colab": {
          "base_uri": "https://localhost:8080/"
        },
        "id": "_wPxL0DNUaQB",
        "outputId": "b8a3a1b7-7613-4f1f-ada2-75e933a0691b"
      },
      "execution_count": 32,
      "outputs": [
        {
          "output_type": "stream",
          "name": "stdout",
          "text": [
            "[0.55555556 0.66666667 1.         1.         0.44444444 0.22222222\n",
            " 0.44444444 0.33333333 0.22222222 0.55555556 1.         0.44444444\n",
            " 1.         0.55555556 0.22222222 0.11111111 1.         1.\n",
            " 0.11111111 1.         1.         1.         1.         1.\n",
            " 1.         0.44444444 0.22222222 1.         1.         0.44444444\n",
            " 0.22222222 0.         0.77777778 0.77777778 1.         0.55555556\n",
            " 0.55555556 1.         0.11111111 0.77777778 1.         0.11111111\n",
            " 0.11111111 0.44444444 0.44444444 0.22222222 0.33333333 1.\n",
            " 0.55555556 1.         0.         0.22222222 1.         0.33333333\n",
            " 1.         1.         1.         0.66666667 1.         0.33333333\n",
            " 0.88888889 0.77777778 1.         1.         1.         1.\n",
            " 1.         0.33333333 0.77777778 0.11111111 1.         1.\n",
            " 0.44444444 0.         1.         0.33333333 1.         0.22222222\n",
            " 0.33333333 1.         1.         1.         0.22222222 1.\n",
            " 1.         0.88888889 0.         0.33333333 0.22222222 1.\n",
            " 1.         1.         1.         1.         1.         0.88888889\n",
            " 0.22222222 1.         1.         1.         1.         1.\n",
            " 1.         1.         1.         0.22222222 0.33333333 0.66666667\n",
            " 0.22222222 1.         0.33333333 0.88888889 0.         1.\n",
            " 1.         0.         1.         1.         1.         0.        ]\n"
          ]
        }
      ]
    },
    {
      "cell_type": "code",
      "source": [
        "pd.DataFrame({'isUSA' : pred}).to_csv('경로')"
      ],
      "metadata": {
        "id": "8fRLi8_qUl7x",
        "colab": {
          "base_uri": "https://localhost:8080/",
          "height": 164
        },
        "outputId": "9bf31e95-691c-4d41-b815-efc9f2be4307"
      },
      "execution_count": 61,
      "outputs": [
        {
          "output_type": "execute_result",
          "data": {
            "text/plain": [
              "',isUSA\\n0,0.5555555555555556\\n1,0.6666666666666666\\n2,1.0\\n3,1.0\\n4,0.4444444444444444\\n5,0.2222222222222222\\n6,0.4444444444444444\\n7,0.3333333333333333\\n8,0.2222222222222222\\n9,0.5555555555555556\\n10,1.0\\n11,0.4444444444444444\\n12,1.0\\n13,0.5555555555555556\\n14,0.2222222222222222\\n15,0.1111111111111111\\n16,1.0\\n17,1.0\\n18,0.1111111111111111\\n19,1.0\\n20,1.0\\n21,1.0\\n22,1.0\\n23,1.0\\n24,1.0\\n25,0.4444444444444444\\n26,0.2222222222222222\\n27,1.0\\n28,1.0\\n29,0.4444444444444444\\n30,0.2222222222222222\\n31,0.0\\n32,0.7777777777777778\\n33,0.7777777777777778\\n34,1.0\\n35,0.5555555555555556\\n36,0.5555555555555556\\n37,1.0\\n38,0.1111111111111111\\n39,0.7777777777777778\\n40,1.0\\n41,0.1111111111111111\\n42,0.1111111111111111\\n43,0.4444444444444444\\n44,0.4444444444444444\\n45,0.2222222222222222\\n46,0.3333333333333333\\n47,1.0\\n48,0.5555555555555556\\n49,1.0\\n50,0.0\\n51,0.2222222222222222\\n52,1.0\\n53,0.3333333333333333\\n54,1.0\\n55,1.0\\n56,1.0\\n57,0.6666666666666666\\n58,1.0\\n59,0.3333333333333333\\n60,0.8888888888888888\\n61,0.7777777777777778\\n62,1.0\\n63,1.0\\n64,1.0\\n65,1.0\\n66,1.0\\n67,0.3333333333333333\\n68,0.7777777777777778\\n69,0.1111111111111111\\n70,1.0\\n71,1.0\\n72,0.4444444444444444\\n73,0.0\\n74,1.0\\n75,0.3333333333333333\\n76,1.0\\n77,0.2222222222222222\\n78,0.3333333333333333\\n79,1.0\\n80,1.0\\n81,1.0\\n82,0.2222222222222222\\n83,1.0\\n84,1.0\\n85,0.8888888888888888\\n86,0.0\\n87,0.3333333333333333\\n88,0.2222222222222222\\n89,1.0\\n90,1.0\\n91,1.0\\n92,1.0\\n93,1.0\\n94,1.0\\n95,0.8888888888888888\\n96,0.2222222222222222\\n97,1.0\\n98,1.0\\n99,1.0\\n100,1.0\\n101,1.0\\n102,1.0\\n103,1.0\\n104,1.0\\n105,0.2222222222222222\\n106,0.3333333333333333\\n107,0.6666666666666666\\n108,0.2222222222222222\\n109,1.0\\n110,0.3333333333333333\\n111,0.8888888888888888\\n112,0.0\\n113,1.0\\n114,1.0\\n115,0.0\\n116,1.0\\n117,1.0\\n118,1.0\\n119,0.0\\n'"
            ],
            "application/vnd.google.colaboratory.intrinsic+json": {
              "type": "string"
            }
          },
          "metadata": {},
          "execution_count": 61
        }
      ]
    }
  ]
}